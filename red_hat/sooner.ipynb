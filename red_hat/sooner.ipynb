{
 "cells": [
  {
   "cell_type": "code",
   "execution_count": 1,
   "metadata": {
    "collapsed": true
   },
   "outputs": [],
   "source": [
    "import pandas as pd\n",
    "import numpy as np\n",
    "import seaborn as sns\n",
    "import matplotlib.pylab as plt\n",
    "\n",
    "df = pd.read_csv('./data/act_train.csv')\n",
    "df_people = pd.read_csv('./data/people.csv')\n",
    "df_merge = pd.merge(df, df_people, how='inner', on='people_id')\n",
    "\n",
    "pd.set_option('display.max_columns', 100)\n",
    "pd.set_option('display.max_rows', 50)"
   ]
  },
  {
   "cell_type": "code",
   "execution_count": 12,
   "metadata": {
    "collapsed": true
   },
   "outputs": [],
   "source": [
    "dfy = pd.DataFrame(df_merge, columns=['outcome']).copy()\n",
    "dfX = df_merge.drop('outcome', axis=1).copy()"
   ]
  },
  {
   "cell_type": "code",
   "execution_count": 9,
   "metadata": {},
   "outputs": [
    {
     "data": {
      "text/html": [
       "<div>\n",
       "<style>\n",
       "    .dataframe thead tr:only-child th {\n",
       "        text-align: right;\n",
       "    }\n",
       "\n",
       "    .dataframe thead th {\n",
       "        text-align: left;\n",
       "    }\n",
       "\n",
       "    .dataframe tbody tr th {\n",
       "        vertical-align: top;\n",
       "    }\n",
       "</style>\n",
       "<table border=\"1\" class=\"dataframe\">\n",
       "  <thead>\n",
       "    <tr style=\"text-align: right;\">\n",
       "      <th></th>\n",
       "      <th>people_id</th>\n",
       "      <th>activity_id</th>\n",
       "      <th>date</th>\n",
       "      <th>activity_category</th>\n",
       "      <th>char_1</th>\n",
       "      <th>char_2</th>\n",
       "      <th>char_3</th>\n",
       "      <th>char_4</th>\n",
       "      <th>char_5</th>\n",
       "      <th>char_6</th>\n",
       "      <th>char_7</th>\n",
       "      <th>char_8</th>\n",
       "      <th>char_9</th>\n",
       "      <th>char_10</th>\n",
       "      <th>outcome</th>\n",
       "    </tr>\n",
       "  </thead>\n",
       "  <tbody>\n",
       "    <tr>\n",
       "      <th>2197287</th>\n",
       "      <td>ppl_99994</td>\n",
       "      <td>act2_4743548</td>\n",
       "      <td>2023-03-30</td>\n",
       "      <td>type 4</td>\n",
       "      <td>NaN</td>\n",
       "      <td>NaN</td>\n",
       "      <td>NaN</td>\n",
       "      <td>NaN</td>\n",
       "      <td>NaN</td>\n",
       "      <td>NaN</td>\n",
       "      <td>NaN</td>\n",
       "      <td>NaN</td>\n",
       "      <td>NaN</td>\n",
       "      <td>type 1832</td>\n",
       "      <td>1</td>\n",
       "    </tr>\n",
       "    <tr>\n",
       "      <th>2197288</th>\n",
       "      <td>ppl_99994</td>\n",
       "      <td>act2_536973</td>\n",
       "      <td>2023-01-19</td>\n",
       "      <td>type 2</td>\n",
       "      <td>NaN</td>\n",
       "      <td>NaN</td>\n",
       "      <td>NaN</td>\n",
       "      <td>NaN</td>\n",
       "      <td>NaN</td>\n",
       "      <td>NaN</td>\n",
       "      <td>NaN</td>\n",
       "      <td>NaN</td>\n",
       "      <td>NaN</td>\n",
       "      <td>type 1</td>\n",
       "      <td>1</td>\n",
       "    </tr>\n",
       "    <tr>\n",
       "      <th>2197289</th>\n",
       "      <td>ppl_99994</td>\n",
       "      <td>act2_688656</td>\n",
       "      <td>2023-05-02</td>\n",
       "      <td>type 4</td>\n",
       "      <td>NaN</td>\n",
       "      <td>NaN</td>\n",
       "      <td>NaN</td>\n",
       "      <td>NaN</td>\n",
       "      <td>NaN</td>\n",
       "      <td>NaN</td>\n",
       "      <td>NaN</td>\n",
       "      <td>NaN</td>\n",
       "      <td>NaN</td>\n",
       "      <td>type 199</td>\n",
       "      <td>1</td>\n",
       "    </tr>\n",
       "    <tr>\n",
       "      <th>2197290</th>\n",
       "      <td>ppl_99994</td>\n",
       "      <td>act2_715089</td>\n",
       "      <td>2023-06-15</td>\n",
       "      <td>type 2</td>\n",
       "      <td>NaN</td>\n",
       "      <td>NaN</td>\n",
       "      <td>NaN</td>\n",
       "      <td>NaN</td>\n",
       "      <td>NaN</td>\n",
       "      <td>NaN</td>\n",
       "      <td>NaN</td>\n",
       "      <td>NaN</td>\n",
       "      <td>NaN</td>\n",
       "      <td>type 1</td>\n",
       "      <td>1</td>\n",
       "    </tr>\n",
       "  </tbody>\n",
       "</table>\n",
       "</div>"
      ],
      "text/plain": [
       "         people_id   activity_id        date activity_category char_1 char_2  \\\n",
       "2197287  ppl_99994  act2_4743548  2023-03-30            type 4    NaN    NaN   \n",
       "2197288  ppl_99994   act2_536973  2023-01-19            type 2    NaN    NaN   \n",
       "2197289  ppl_99994   act2_688656  2023-05-02            type 4    NaN    NaN   \n",
       "2197290  ppl_99994   act2_715089  2023-06-15            type 2    NaN    NaN   \n",
       "\n",
       "        char_3 char_4 char_5 char_6 char_7 char_8 char_9    char_10  outcome  \n",
       "2197287    NaN    NaN    NaN    NaN    NaN    NaN    NaN  type 1832        1  \n",
       "2197288    NaN    NaN    NaN    NaN    NaN    NaN    NaN     type 1        1  \n",
       "2197289    NaN    NaN    NaN    NaN    NaN    NaN    NaN   type 199        1  \n",
       "2197290    NaN    NaN    NaN    NaN    NaN    NaN    NaN     type 1        1  "
      ]
     },
     "execution_count": 9,
     "metadata": {},
     "output_type": "execute_result"
    }
   ],
   "source": [
    "df.tail(4)"
   ]
  },
  {
   "cell_type": "code",
   "execution_count": null,
   "metadata": {
    "collapsed": true
   },
   "outputs": [],
   "source": []
  },
  {
   "cell_type": "code",
   "execution_count": null,
   "metadata": {
    "collapsed": true
   },
   "outputs": [],
   "source": [
    "df['activity_category'].value_counts()"
   ]
  },
  {
   "cell_type": "code",
   "execution_count": null,
   "metadata": {
    "collapsed": true
   },
   "outputs": [],
   "source": [
    "df_act1 = df[df.activity_id.str.contains('^act1')].copy()\n",
    "df_act2 = df[df.activity_id.str.contains('^act2')].copy()"
   ]
  },
  {
   "cell_type": "code",
   "execution_count": null,
   "metadata": {
    "collapsed": true
   },
   "outputs": [],
   "source": [
    "df_act1_type1 = df_act1[df_act1['activity_category']=='type 1'][['people_id', 'activity_id', 'date', 'activity_category', 'char_1', \n",
    "                                                                 'char_2', 'char_3', 'char_4', 'char_5', 'char_6', 'char_7', 'char_8', \n",
    "                                                                 'char_9', 'outcome']].copy()"
   ]
  },
  {
   "cell_type": "code",
   "execution_count": null,
   "metadata": {
    "collapsed": true
   },
   "outputs": [],
   "source": [
    "df_act2_type1 = df_act2[df_act2['activity_category']=='type 1'][['people_id', 'activity_id', 'date', 'activity_category', 'char_1', \n",
    "                                                                 'char_2', 'char_3', 'char_4', 'char_5', 'char_6', 'char_7', 'char_8', \n",
    "                                                                 'char_9', 'outcome']].copy()"
   ]
  },
  {
   "cell_type": "code",
   "execution_count": null,
   "metadata": {
    "collapsed": true
   },
   "outputs": [],
   "source": [
    "df_act1_type1.tail() #activity_category : type 1"
   ]
  },
  {
   "cell_type": "code",
   "execution_count": null,
   "metadata": {
    "collapsed": true
   },
   "outputs": [],
   "source": [
    "df_act2_type2 = df_act2[df_act2['activity_category']=='type 2'][['people_id', 'activity_id', 'date', 'activity_category', 'char_10', 'outcome']].copy()\n",
    "df_act2_type3 = df_act2[df_act2['activity_category']=='type 3'][['people_id', 'activity_id', 'date', 'activity_category', 'char_10', 'outcome']].copy()\n",
    "df_act2_type4 = df_act2[df_act2['activity_category']=='type 4'][['people_id', 'activity_id', 'date', 'activity_category', 'char_10', 'outcome']].copy()\n",
    "df_act2_type5 = df_act2[df_act2['activity_category']=='type 5'][['people_id', 'activity_id', 'date', 'activity_category', 'char_10', 'outcome']].copy()\n",
    "df_act2_type6 = df_act2[df_act2['activity_category']=='type 6'][['people_id', 'activity_id', 'date', 'activity_category', 'char_10', 'outcome']].copy()\n",
    "df_act2_type7 = df_act2[df_act2['activity_category']=='type 7'][['people_id', 'activity_id', 'date', 'activity_category', 'char_10', 'outcome']].copy()"
   ]
  },
  {
   "cell_type": "code",
   "execution_count": null,
   "metadata": {
    "collapsed": true
   },
   "outputs": [],
   "source": [
    "df_act2_type1 # 없음"
   ]
  },
  {
   "cell_type": "code",
   "execution_count": null,
   "metadata": {
    "collapsed": true
   },
   "outputs": [],
   "source": [
    "df_act2_type2['char_10'].value_counts()"
   ]
  },
  {
   "cell_type": "code",
   "execution_count": null,
   "metadata": {
    "collapsed": true
   },
   "outputs": [],
   "source": [
    "df_act2_type2.head() #type 1    904683"
   ]
  },
  {
   "cell_type": "code",
   "execution_count": null,
   "metadata": {
    "collapsed": true
   },
   "outputs": [],
   "source": [
    "df_act2_type3['char_10'].value_counts() # 450"
   ]
  },
  {
   "cell_type": "code",
   "execution_count": null,
   "metadata": {
    "collapsed": true
   },
   "outputs": [],
   "source": [
    "df_act2_type3.tail()"
   ]
  },
  {
   "cell_type": "code",
   "execution_count": null,
   "metadata": {
    "collapsed": true
   },
   "outputs": [],
   "source": [
    "df_act2_type4['char_10'].value_counts() # 3315"
   ]
  },
  {
   "cell_type": "code",
   "execution_count": null,
   "metadata": {
    "collapsed": true
   },
   "outputs": [],
   "source": [
    "df_act2_type5['char_10'].value_counts() # 2747"
   ]
  },
  {
   "cell_type": "code",
   "execution_count": null,
   "metadata": {
    "collapsed": true
   },
   "outputs": [],
   "source": [
    "df_act2_type6['char_10'].value_counts() # type 110    4253"
   ]
  },
  {
   "cell_type": "code",
   "execution_count": null,
   "metadata": {
    "collapsed": true
   },
   "outputs": [],
   "source": [
    "df_act2_type6.tail()"
   ]
  },
  {
   "cell_type": "code",
   "execution_count": null,
   "metadata": {
    "collapsed": true
   },
   "outputs": [],
   "source": [
    "df_act2_type7['char_10'].value_counts() # type 194    3157"
   ]
  },
  {
   "cell_type": "code",
   "execution_count": null,
   "metadata": {
    "collapsed": true
   },
   "outputs": [],
   "source": []
  },
  {
   "cell_type": "code",
   "execution_count": null,
   "metadata": {
    "collapsed": true
   },
   "outputs": [],
   "source": []
  },
  {
   "cell_type": "code",
   "execution_count": null,
   "metadata": {
    "collapsed": true
   },
   "outputs": [],
   "source": []
  },
  {
   "cell_type": "code",
   "execution_count": null,
   "metadata": {
    "collapsed": true
   },
   "outputs": [],
   "source": [
    "plt.scatter(df_merge['char_38'],df_merge['outcome'],alpha=0.1)\n",
    "plt.show()"
   ]
  },
  {
   "cell_type": "code",
   "execution_count": null,
   "metadata": {
    "collapsed": true
   },
   "outputs": [],
   "source": [
    "# df_test = df_merge[['people_id', 'outcome', 'char_38']].drop_duplicates() 쓰면 안된!!!"
   ]
  },
  {
   "cell_type": "code",
   "execution_count": null,
   "metadata": {
    "collapsed": true
   },
   "outputs": [],
   "source": []
  },
  {
   "cell_type": "code",
   "execution_count": null,
   "metadata": {
    "collapsed": true
   },
   "outputs": [],
   "source": []
  },
  {
   "cell_type": "markdown",
   "metadata": {},
   "source": [
    "# feature corr"
   ]
  },
  {
   "cell_type": "code",
   "execution_count": 2,
   "metadata": {
    "collapsed": true
   },
   "outputs": [],
   "source": [
    "a = df_merge.sample(frac = 0.1).copy()"
   ]
  },
  {
   "cell_type": "code",
   "execution_count": 3,
   "metadata": {},
   "outputs": [],
   "source": [
    "a = a.replace('type ', '', regex=True).apply(pd.to_numeric, errors='ignore')"
   ]
  },
  {
   "cell_type": "code",
   "execution_count": 6,
   "metadata": {
    "collapsed": true
   },
   "outputs": [
    {
     "data": {
      "text/plain": [
       "people_id             object\n",
       "activity_id           object\n",
       "date_x                object\n",
       "activity_category      int64\n",
       "char_1_x             float64\n",
       "char_2_x             float64\n",
       "char_3_x             float64\n",
       "char_4_x             float64\n",
       "char_5_x             float64\n",
       "char_6_x             float64\n",
       "char_7_x             float64\n",
       "char_8_x             float64\n",
       "char_9_x             float64\n",
       "char_10_x            float64\n",
       "outcome                int64\n",
       "char_1_y               int64\n",
       "group_1               object\n",
       "char_2_y               int64\n",
       "date_y                object\n",
       "char_3_y               int64\n",
       "char_4_y               int64\n",
       "char_5_y               int64\n",
       "char_6_y               int64\n",
       "char_7_y               int64\n",
       "char_8_y               int64\n",
       "                      ...   \n",
       "char_14                 bool\n",
       "char_15                 bool\n",
       "char_16                 bool\n",
       "char_17                 bool\n",
       "char_18                 bool\n",
       "char_19                 bool\n",
       "char_20                 bool\n",
       "char_21                 bool\n",
       "char_22                 bool\n",
       "char_23                 bool\n",
       "char_24                 bool\n",
       "char_25                 bool\n",
       "char_26                 bool\n",
       "char_27                 bool\n",
       "char_28                 bool\n",
       "char_29                 bool\n",
       "char_30                 bool\n",
       "char_31                 bool\n",
       "char_32                 bool\n",
       "char_33                 bool\n",
       "char_34                 bool\n",
       "char_35                 bool\n",
       "char_36                 bool\n",
       "char_37                 bool\n",
       "char_38                int64\n",
       "Length: 55, dtype: object"
      ]
     },
     "execution_count": 6,
     "metadata": {},
     "output_type": "execute_result"
    }
   ],
   "source": [
    "# a.dtypes"
   ]
  },
  {
   "cell_type": "code",
   "execution_count": 15,
   "metadata": {},
   "outputs": [
    {
     "data": {
      "text/html": [
       "<div>\n",
       "<style>\n",
       "    .dataframe thead tr:only-child th {\n",
       "        text-align: right;\n",
       "    }\n",
       "\n",
       "    .dataframe thead th {\n",
       "        text-align: left;\n",
       "    }\n",
       "\n",
       "    .dataframe tbody tr th {\n",
       "        vertical-align: top;\n",
       "    }\n",
       "</style>\n",
       "<table border=\"1\" class=\"dataframe\">\n",
       "  <thead>\n",
       "    <tr style=\"text-align: right;\">\n",
       "      <th></th>\n",
       "      <th>people_id</th>\n",
       "      <th>activity_id</th>\n",
       "      <th>date_x</th>\n",
       "      <th>activity_category</th>\n",
       "      <th>char_1_x</th>\n",
       "      <th>char_2_x</th>\n",
       "      <th>char_3_x</th>\n",
       "      <th>char_4_x</th>\n",
       "      <th>char_5_x</th>\n",
       "      <th>char_6_x</th>\n",
       "      <th>char_7_x</th>\n",
       "      <th>char_8_x</th>\n",
       "      <th>char_9_x</th>\n",
       "      <th>char_10_x</th>\n",
       "      <th>outcome</th>\n",
       "      <th>char_1_y</th>\n",
       "      <th>group_1</th>\n",
       "      <th>char_2_y</th>\n",
       "      <th>date_y</th>\n",
       "      <th>char_3_y</th>\n",
       "      <th>char_4_y</th>\n",
       "      <th>char_5_y</th>\n",
       "      <th>char_6_y</th>\n",
       "      <th>char_7_y</th>\n",
       "      <th>char_8_y</th>\n",
       "      <th>char_9_y</th>\n",
       "      <th>char_10_y</th>\n",
       "      <th>char_11</th>\n",
       "      <th>char_12</th>\n",
       "      <th>char_13</th>\n",
       "      <th>char_14</th>\n",
       "      <th>char_15</th>\n",
       "      <th>char_16</th>\n",
       "      <th>char_17</th>\n",
       "      <th>char_18</th>\n",
       "      <th>char_19</th>\n",
       "      <th>char_20</th>\n",
       "      <th>char_21</th>\n",
       "      <th>char_22</th>\n",
       "      <th>char_23</th>\n",
       "      <th>char_24</th>\n",
       "      <th>char_25</th>\n",
       "      <th>char_26</th>\n",
       "      <th>char_27</th>\n",
       "      <th>char_28</th>\n",
       "      <th>char_29</th>\n",
       "      <th>char_30</th>\n",
       "      <th>char_31</th>\n",
       "      <th>char_32</th>\n",
       "      <th>char_33</th>\n",
       "      <th>char_34</th>\n",
       "      <th>char_35</th>\n",
       "      <th>char_36</th>\n",
       "      <th>char_37</th>\n",
       "      <th>char_38</th>\n",
       "    </tr>\n",
       "  </thead>\n",
       "  <tbody>\n",
       "    <tr>\n",
       "      <th>51032</th>\n",
       "      <td>ppl_105739</td>\n",
       "      <td>act2_2675898</td>\n",
       "      <td>2022-09-30</td>\n",
       "      <td>3</td>\n",
       "      <td>NaN</td>\n",
       "      <td>NaN</td>\n",
       "      <td>NaN</td>\n",
       "      <td>NaN</td>\n",
       "      <td>NaN</td>\n",
       "      <td>NaN</td>\n",
       "      <td>NaN</td>\n",
       "      <td>NaN</td>\n",
       "      <td>NaN</td>\n",
       "      <td>23.0</td>\n",
       "      <td>0</td>\n",
       "      <td>2</td>\n",
       "      <td>group 17304</td>\n",
       "      <td>2</td>\n",
       "      <td>2021-02-27</td>\n",
       "      <td>40</td>\n",
       "      <td>25</td>\n",
       "      <td>9</td>\n",
       "      <td>3</td>\n",
       "      <td>9</td>\n",
       "      <td>3</td>\n",
       "      <td>3</td>\n",
       "      <td>False</td>\n",
       "      <td>False</td>\n",
       "      <td>False</td>\n",
       "      <td>False</td>\n",
       "      <td>False</td>\n",
       "      <td>False</td>\n",
       "      <td>False</td>\n",
       "      <td>False</td>\n",
       "      <td>False</td>\n",
       "      <td>False</td>\n",
       "      <td>False</td>\n",
       "      <td>False</td>\n",
       "      <td>False</td>\n",
       "      <td>False</td>\n",
       "      <td>False</td>\n",
       "      <td>False</td>\n",
       "      <td>False</td>\n",
       "      <td>False</td>\n",
       "      <td>False</td>\n",
       "      <td>False</td>\n",
       "      <td>False</td>\n",
       "      <td>False</td>\n",
       "      <td>False</td>\n",
       "      <td>False</td>\n",
       "      <td>False</td>\n",
       "      <td>False</td>\n",
       "      <td>False</td>\n",
       "      <td>False</td>\n",
       "      <td>0</td>\n",
       "    </tr>\n",
       "    <tr>\n",
       "      <th>633148</th>\n",
       "      <td>ppl_205929</td>\n",
       "      <td>act1_281441</td>\n",
       "      <td>2022-09-14</td>\n",
       "      <td>1</td>\n",
       "      <td>2.0</td>\n",
       "      <td>5.0</td>\n",
       "      <td>5.0</td>\n",
       "      <td>3.0</td>\n",
       "      <td>6.0</td>\n",
       "      <td>1.0</td>\n",
       "      <td>1.0</td>\n",
       "      <td>4.0</td>\n",
       "      <td>8.0</td>\n",
       "      <td>NaN</td>\n",
       "      <td>1</td>\n",
       "      <td>2</td>\n",
       "      <td>group 14289</td>\n",
       "      <td>3</td>\n",
       "      <td>2022-08-27</td>\n",
       "      <td>15</td>\n",
       "      <td>5</td>\n",
       "      <td>5</td>\n",
       "      <td>1</td>\n",
       "      <td>2</td>\n",
       "      <td>2</td>\n",
       "      <td>4</td>\n",
       "      <td>True</td>\n",
       "      <td>True</td>\n",
       "      <td>True</td>\n",
       "      <td>True</td>\n",
       "      <td>True</td>\n",
       "      <td>True</td>\n",
       "      <td>True</td>\n",
       "      <td>False</td>\n",
       "      <td>False</td>\n",
       "      <td>True</td>\n",
       "      <td>False</td>\n",
       "      <td>True</td>\n",
       "      <td>True</td>\n",
       "      <td>True</td>\n",
       "      <td>True</td>\n",
       "      <td>True</td>\n",
       "      <td>True</td>\n",
       "      <td>True</td>\n",
       "      <td>True</td>\n",
       "      <td>False</td>\n",
       "      <td>True</td>\n",
       "      <td>True</td>\n",
       "      <td>True</td>\n",
       "      <td>True</td>\n",
       "      <td>True</td>\n",
       "      <td>False</td>\n",
       "      <td>True</td>\n",
       "      <td>True</td>\n",
       "      <td>90</td>\n",
       "    </tr>\n",
       "    <tr>\n",
       "      <th>916176</th>\n",
       "      <td>ppl_255310</td>\n",
       "      <td>act2_2175755</td>\n",
       "      <td>2023-07-26</td>\n",
       "      <td>2</td>\n",
       "      <td>NaN</td>\n",
       "      <td>NaN</td>\n",
       "      <td>NaN</td>\n",
       "      <td>NaN</td>\n",
       "      <td>NaN</td>\n",
       "      <td>NaN</td>\n",
       "      <td>NaN</td>\n",
       "      <td>NaN</td>\n",
       "      <td>NaN</td>\n",
       "      <td>1.0</td>\n",
       "      <td>1</td>\n",
       "      <td>2</td>\n",
       "      <td>group 8456</td>\n",
       "      <td>3</td>\n",
       "      <td>2023-05-09</td>\n",
       "      <td>4</td>\n",
       "      <td>6</td>\n",
       "      <td>4</td>\n",
       "      <td>3</td>\n",
       "      <td>8</td>\n",
       "      <td>3</td>\n",
       "      <td>3</td>\n",
       "      <td>False</td>\n",
       "      <td>False</td>\n",
       "      <td>False</td>\n",
       "      <td>True</td>\n",
       "      <td>True</td>\n",
       "      <td>False</td>\n",
       "      <td>False</td>\n",
       "      <td>False</td>\n",
       "      <td>False</td>\n",
       "      <td>True</td>\n",
       "      <td>False</td>\n",
       "      <td>True</td>\n",
       "      <td>False</td>\n",
       "      <td>False</td>\n",
       "      <td>False</td>\n",
       "      <td>False</td>\n",
       "      <td>False</td>\n",
       "      <td>False</td>\n",
       "      <td>True</td>\n",
       "      <td>False</td>\n",
       "      <td>True</td>\n",
       "      <td>True</td>\n",
       "      <td>False</td>\n",
       "      <td>True</td>\n",
       "      <td>False</td>\n",
       "      <td>True</td>\n",
       "      <td>True</td>\n",
       "      <td>True</td>\n",
       "      <td>47</td>\n",
       "    </tr>\n",
       "    <tr>\n",
       "      <th>928249</th>\n",
       "      <td>ppl_257039</td>\n",
       "      <td>act2_3052448</td>\n",
       "      <td>2022-11-01</td>\n",
       "      <td>2</td>\n",
       "      <td>NaN</td>\n",
       "      <td>NaN</td>\n",
       "      <td>NaN</td>\n",
       "      <td>NaN</td>\n",
       "      <td>NaN</td>\n",
       "      <td>NaN</td>\n",
       "      <td>NaN</td>\n",
       "      <td>NaN</td>\n",
       "      <td>NaN</td>\n",
       "      <td>1.0</td>\n",
       "      <td>0</td>\n",
       "      <td>2</td>\n",
       "      <td>group 17304</td>\n",
       "      <td>2</td>\n",
       "      <td>2022-09-01</td>\n",
       "      <td>40</td>\n",
       "      <td>25</td>\n",
       "      <td>9</td>\n",
       "      <td>3</td>\n",
       "      <td>8</td>\n",
       "      <td>3</td>\n",
       "      <td>3</td>\n",
       "      <td>False</td>\n",
       "      <td>False</td>\n",
       "      <td>False</td>\n",
       "      <td>False</td>\n",
       "      <td>False</td>\n",
       "      <td>False</td>\n",
       "      <td>False</td>\n",
       "      <td>False</td>\n",
       "      <td>False</td>\n",
       "      <td>False</td>\n",
       "      <td>False</td>\n",
       "      <td>False</td>\n",
       "      <td>False</td>\n",
       "      <td>False</td>\n",
       "      <td>False</td>\n",
       "      <td>False</td>\n",
       "      <td>False</td>\n",
       "      <td>False</td>\n",
       "      <td>False</td>\n",
       "      <td>False</td>\n",
       "      <td>False</td>\n",
       "      <td>False</td>\n",
       "      <td>False</td>\n",
       "      <td>False</td>\n",
       "      <td>False</td>\n",
       "      <td>False</td>\n",
       "      <td>False</td>\n",
       "      <td>False</td>\n",
       "      <td>0</td>\n",
       "    </tr>\n",
       "    <tr>\n",
       "      <th>1013416</th>\n",
       "      <td>ppl_271680</td>\n",
       "      <td>act2_2780333</td>\n",
       "      <td>2022-08-06</td>\n",
       "      <td>2</td>\n",
       "      <td>NaN</td>\n",
       "      <td>NaN</td>\n",
       "      <td>NaN</td>\n",
       "      <td>NaN</td>\n",
       "      <td>NaN</td>\n",
       "      <td>NaN</td>\n",
       "      <td>NaN</td>\n",
       "      <td>NaN</td>\n",
       "      <td>NaN</td>\n",
       "      <td>1.0</td>\n",
       "      <td>1</td>\n",
       "      <td>2</td>\n",
       "      <td>group 29098</td>\n",
       "      <td>3</td>\n",
       "      <td>2022-04-01</td>\n",
       "      <td>11</td>\n",
       "      <td>15</td>\n",
       "      <td>2</td>\n",
       "      <td>3</td>\n",
       "      <td>9</td>\n",
       "      <td>3</td>\n",
       "      <td>3</td>\n",
       "      <td>False</td>\n",
       "      <td>False</td>\n",
       "      <td>False</td>\n",
       "      <td>False</td>\n",
       "      <td>False</td>\n",
       "      <td>False</td>\n",
       "      <td>False</td>\n",
       "      <td>False</td>\n",
       "      <td>False</td>\n",
       "      <td>False</td>\n",
       "      <td>False</td>\n",
       "      <td>False</td>\n",
       "      <td>False</td>\n",
       "      <td>False</td>\n",
       "      <td>False</td>\n",
       "      <td>False</td>\n",
       "      <td>False</td>\n",
       "      <td>False</td>\n",
       "      <td>False</td>\n",
       "      <td>False</td>\n",
       "      <td>False</td>\n",
       "      <td>False</td>\n",
       "      <td>False</td>\n",
       "      <td>False</td>\n",
       "      <td>False</td>\n",
       "      <td>False</td>\n",
       "      <td>False</td>\n",
       "      <td>False</td>\n",
       "      <td>66</td>\n",
       "    </tr>\n",
       "  </tbody>\n",
       "</table>\n",
       "</div>"
      ],
      "text/plain": [
       "          people_id   activity_id      date_x  activity_category  char_1_x  \\\n",
       "51032    ppl_105739  act2_2675898  2022-09-30                  3       NaN   \n",
       "633148   ppl_205929   act1_281441  2022-09-14                  1       2.0   \n",
       "916176   ppl_255310  act2_2175755  2023-07-26                  2       NaN   \n",
       "928249   ppl_257039  act2_3052448  2022-11-01                  2       NaN   \n",
       "1013416  ppl_271680  act2_2780333  2022-08-06                  2       NaN   \n",
       "\n",
       "         char_2_x  char_3_x  char_4_x  char_5_x  char_6_x  char_7_x  char_8_x  \\\n",
       "51032         NaN       NaN       NaN       NaN       NaN       NaN       NaN   \n",
       "633148        5.0       5.0       3.0       6.0       1.0       1.0       4.0   \n",
       "916176        NaN       NaN       NaN       NaN       NaN       NaN       NaN   \n",
       "928249        NaN       NaN       NaN       NaN       NaN       NaN       NaN   \n",
       "1013416       NaN       NaN       NaN       NaN       NaN       NaN       NaN   \n",
       "\n",
       "         char_9_x  char_10_x  outcome  char_1_y      group_1  char_2_y  \\\n",
       "51032         NaN       23.0        0         2  group 17304         2   \n",
       "633148        8.0        NaN        1         2  group 14289         3   \n",
       "916176        NaN        1.0        1         2   group 8456         3   \n",
       "928249        NaN        1.0        0         2  group 17304         2   \n",
       "1013416       NaN        1.0        1         2  group 29098         3   \n",
       "\n",
       "             date_y  char_3_y  char_4_y  char_5_y  char_6_y  char_7_y  \\\n",
       "51032    2021-02-27        40        25         9         3         9   \n",
       "633148   2022-08-27        15         5         5         1         2   \n",
       "916176   2023-05-09         4         6         4         3         8   \n",
       "928249   2022-09-01        40        25         9         3         8   \n",
       "1013416  2022-04-01        11        15         2         3         9   \n",
       "\n",
       "         char_8_y  char_9_y  char_10_y  char_11  char_12  char_13  char_14  \\\n",
       "51032           3         3      False    False    False    False    False   \n",
       "633148          2         4       True     True     True     True     True   \n",
       "916176          3         3      False    False    False     True     True   \n",
       "928249          3         3      False    False    False    False    False   \n",
       "1013416         3         3      False    False    False    False    False   \n",
       "\n",
       "         char_15  char_16  char_17  char_18  char_19  char_20  char_21  \\\n",
       "51032      False    False    False    False    False    False    False   \n",
       "633148      True     True    False    False     True    False     True   \n",
       "916176     False    False    False    False     True    False     True   \n",
       "928249     False    False    False    False    False    False    False   \n",
       "1013416    False    False    False    False    False    False    False   \n",
       "\n",
       "         char_22  char_23  char_24  char_25  char_26  char_27  char_28  \\\n",
       "51032      False    False    False    False    False    False    False   \n",
       "633148      True     True     True     True     True     True     True   \n",
       "916176     False    False    False    False    False    False     True   \n",
       "928249     False    False    False    False    False    False    False   \n",
       "1013416    False    False    False    False    False    False    False   \n",
       "\n",
       "         char_29  char_30  char_31  char_32  char_33  char_34  char_35  \\\n",
       "51032      False    False    False    False    False    False    False   \n",
       "633148     False     True     True     True     True     True    False   \n",
       "916176     False     True     True    False     True    False     True   \n",
       "928249     False    False    False    False    False    False    False   \n",
       "1013416    False    False    False    False    False    False    False   \n",
       "\n",
       "         char_36  char_37  char_38  \n",
       "51032      False    False        0  \n",
       "633148      True     True       90  \n",
       "916176      True     True       47  \n",
       "928249     False    False        0  \n",
       "1013416    False    False       66  "
      ]
     },
     "execution_count": 15,
     "metadata": {},
     "output_type": "execute_result"
    }
   ],
   "source": [
    "a.head()"
   ]
  },
  {
   "cell_type": "code",
   "execution_count": 19,
   "metadata": {},
   "outputs": [
    {
     "data": {
      "text/plain": [
       "Index(['people_id', 'activity_id', 'date_x', 'activity_category', 'char_1_x',\n",
       "       'char_2_x', 'char_3_x', 'char_4_x', 'char_5_x', 'char_6_x', 'char_7_x',\n",
       "       'char_8_x', 'char_9_x', 'char_10_x', 'outcome', 'char_1_y', 'group_1',\n",
       "       'char_2_y', 'date_y', 'char_3_y', 'char_4_y', 'char_5_y', 'char_6_y',\n",
       "       'char_7_y', 'char_8_y', 'char_9_y', 'char_10_y', 'char_11', 'char_12',\n",
       "       'char_13', 'char_14', 'char_15', 'char_16', 'char_17', 'char_18',\n",
       "       'char_19', 'char_20', 'char_21', 'char_22', 'char_23', 'char_24',\n",
       "       'char_25', 'char_26', 'char_27', 'char_28', 'char_29', 'char_30',\n",
       "       'char_31', 'char_32', 'char_33', 'char_34', 'char_35', 'char_36',\n",
       "       'char_37', 'char_38'],\n",
       "      dtype='object')"
      ]
     },
     "execution_count": 19,
     "metadata": {},
     "output_type": "execute_result"
    }
   ],
   "source": [
    "a.columns"
   ]
  },
  {
   "cell_type": "code",
   "execution_count": 7,
   "metadata": {
    "collapsed": true
   },
   "outputs": [
    {
     "data": {
      "image/png": "[encoded data removed]",
      "text/plain": [
       "<matplotlib.figure.Figure at 0x26b02ea4c50>"
      ]
     },
     "metadata": {},
     "output_type": "display_data"
    }
   ],
   "source": [
    "sns.countplot(x='activity_category',hue = 'outcome', data = a)\n",
    "plt.show()"
   ]
  },
  {
   "cell_type": "code",
   "execution_count": 33,
   "metadata": {},
   "outputs": [
    {
     "data": {
      "image/png": "[encoded data removed]",
      "text/plain": [
       "<matplotlib.figure.Figure at 0x26b0168a208>"
      ]
     },
     "metadata": {},
     "output_type": "display_data"
    }
   ],
   "source": [
    "plt.scatter(a[['char_10_x']],a['outcome'],alpha=0.1)\n",
    "plt.show()"
   ]
  },
  {
   "cell_type": "code",
   "execution_count": null,
   "metadata": {
    "collapsed": true
   },
   "outputs": [],
   "source": [
    "sns.pairplot(a)\n",
    "plt.show()"
   ]
  },
  {
   "cell_type": "code",
   "execution_count": null,
   "metadata": {
    "collapsed": true
   },
   "outputs": [],
   "source": [
    "sns.distplot(a, kde=True, rug=True)\n",
    "plt.show()"
   ]
  },
  {
   "cell_type": "code",
   "execution_count": null,
   "metadata": {
    "collapsed": true
   },
   "outputs": [],
   "source": []
  }
 ],
 "metadata": {
  "kernelspec": {
   "display_name": "Python 3",
   "language": "python",
   "name": "python3"
  },
  "language_info": {
   "codemirror_mode": {
    "name": "ipython",
    "version": 3
   },
   "file_extension": ".py",
   "mimetype": "text/x-python",
   "name": "python",
   "nbconvert_exporter": "python",
   "pygments_lexer": "ipython3",
   "version": "3.6.2"
  }
 },
 "nbformat": 4,
 "nbformat_minor": 2
}
