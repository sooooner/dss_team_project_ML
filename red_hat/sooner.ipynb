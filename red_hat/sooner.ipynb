{
 "cells": [
  {
   "cell_type": "code",
   "execution_count": 1,
   "metadata": {},
   "outputs": [
    {
     "name": "stderr",
     "output_type": "stream",
     "text": [
      "C:\\ProgramData\\Anaconda3\\lib\\site-packages\\sklearn\\cross_validation.py:41: DeprecationWarning: This module was deprecated in version 0.18 in favor of the model_selection module into which all the refactored classes and functions are moved. Also note that the interface of the new CV iterators are different from that of this module. This module will be removed in 0.20.\n",
      "  \"This module will be removed in 0.20.\", DeprecationWarning)\n",
      "C:\\ProgramData\\Anaconda3\\lib\\site-packages\\statsmodels\\compat\\pandas.py:56: FutureWarning: The pandas.core.datetools module is deprecated and will be removed in a future version. Please use the pandas.tseries module instead.\n",
      "  from pandas.core import datetools\n"
     ]
    }
   ],
   "source": [
    "%matplotlib inline\n",
    "import h2o\n",
    "import xgboost\n",
    "import numpy as np\n",
    "import scipy as sp\n",
    "import pandas as pd\n",
    "import seaborn as sns\n",
    "import matplotlib as mpl\n",
    "import statsmodels.api as sm\n",
    "import matplotlib.pylab as plt\n",
    "from sklearn.svm import SVC\n",
    "from sklearn.metrics import *\n",
    "from sklearn.naive_bayes import GaussianNB\n",
    "from sklearn.naive_bayes import BernoulliNB\n",
    "from sklearn.tree import DecisionTreeClassifier\n",
    "from sklearn.model_selection import cross_val_score\n",
    "from sklearn.model_selection import train_test_split\n",
    "from sklearn.ensemble import RandomForestClassifier, ExtraTreesClassifier\n",
    "\n",
    "from h2o.estimators.random_forest import H2ORandomForestEstimator\n",
    "pd.set_option('display.max_columns', 100)\n",
    "pd.set_option('display.max_rows', 50)"
   ]
  },
  {
   "cell_type": "markdown",
   "metadata": {},
   "source": [
    "# Function"
   ]
  },
  {
   "cell_type": "code",
   "execution_count": 2,
   "metadata": {
    "collapsed": true
   },
   "outputs": [],
   "source": [
    "def str_to_num(df, train=True, activity_id = True):\n",
    "    '''\n",
    "    ppl_id : del string and change dtype to num\n",
    "    activity id : del number and str(act)\n",
    "    type : del string and change dtype to num\n",
    "    bool : 0, 1\n",
    "    inplace : True\n",
    "    \n",
    "    parameta\n",
    "    --------\n",
    "    df : DataFrame \n",
    "    train : bool\n",
    "        train :True, test : False\n",
    "    --------\n",
    "    '''\n",
    "    col_list = list(df)\n",
    "    col_list.remove('date_x')\n",
    "    col_list.remove('date_y')\n",
    "    if train:\n",
    "        col_list.remove('outcome')\n",
    "        \n",
    "    for col in col_list[:col_list.index('char_9_y')+1]:\n",
    "        if col == 'activity_id':\n",
    "            if activity_id == True:\n",
    "                df.loc[:,col] = df.loc[:,col].apply(lambda x: x.split('_')[0])\n",
    "                df.replace('act', '', regex=True, inplace = True)\n",
    "        elif col == 'people_id':\n",
    "            df.loc[:,col] = df.loc[:,col].apply(lambda x: x.split('_')[1])\n",
    "        else :\n",
    "            df.loc[:,col][df.loc[:,col].isnull()==False] = df.loc[:,col][df.loc[:,col].isnull()==False].apply(lambda x: x.split(' ')[1])\n",
    "        df.loc[:, col] = pd.to_numeric(df.loc[:, col][df.loc[:,col].isnull()==False]).astype(int)\n",
    "            \n",
    "    for col in col_list[col_list.index('char_10_y'):col_list.index('char_38')+1]:\n",
    "        df.loc[:,col] = df.loc[:,col].replace({True:1, False:0})\n",
    "        \n",
    "    return df"
   ]
  },
  {
   "cell_type": "code",
   "execution_count": 3,
   "metadata": {
    "collapsed": true
   },
   "outputs": [],
   "source": [
    "def date_modify(df):\n",
    "    '''\n",
    "    add week_x, week_y, and Past_days\n",
    "    inplace : True\n",
    "    \n",
    "    parameta\n",
    "    --------\n",
    "    df : DataFrame \n",
    "    --------\n",
    "    '''\n",
    "    df.insert(loc=list(df).index('date_x')+1 ,column='week_x', value=df['date_x'].dt.weekday)\n",
    "    df.insert(loc=list(df).index('date_y')+1 ,column='week_y', value=df['date_y'].dt.weekday)\n",
    "    df.insert(loc=list(df).index('week_x')+1 ,column='Past_days', value=(df.date_x - df.date_y).astype('timedelta64[D]'))\n",
    "    df['days']=(pd.to_numeric(df.date_x)//86400000000000) - (pd.to_numeric(df.date_x)//86400000000000).min()\n",
    "    return df"
   ]
  },
  {
   "cell_type": "code",
   "execution_count": 4,
   "metadata": {
    "collapsed": true
   },
   "outputs": [],
   "source": [
    "def add_bool_sum(df):\n",
    "    '''\n",
    "    add colum 'bool_sum' : sum of char_10_y ~ char_37\n",
    "    inplace : False\n",
    "    \n",
    "    parameta\n",
    "    --------\n",
    "    df : DataFrame \n",
    "    --------\n",
    "    '''\n",
    "    temp = df.copy()\n",
    "    temp['bool_sum'] = temp.iloc[:,list(temp).index('char_10_y'):list(temp).index('char_37')].sum(axis=1)\n",
    "    return temp"
   ]
  },
  {
   "cell_type": "code",
   "execution_count": 5,
   "metadata": {
    "collapsed": true
   },
   "outputs": [],
   "source": [
    "def num_to_cat(df, columns):\n",
    "    '''\n",
    "    change dtype(num to str)\n",
    "    inplace : False\n",
    "    \n",
    "    parameta\n",
    "    --------\n",
    "    df : DataFrame \n",
    "    columns : list\n",
    "    --------\n",
    "    '''\n",
    "    temp = df.copy()\n",
    "    temp.loc[:,columns] = pd.DataFrame(temp.loc[:,columns], dtype='str')\n",
    "    return temp"
   ]
  },
  {
   "cell_type": "code",
   "execution_count": 134,
   "metadata": {
    "collapsed": true
   },
   "outputs": [],
   "source": [
    "def one_hot_encoder(df, columns):\n",
    "    '''\n",
    "    columns encoding(one-hot-encoding)\n",
    "    inplace : False\n",
    "    \n",
    "    parameta\n",
    "    --------\n",
    "    df : DataFrame \n",
    "    columns : list\n",
    "    --------\n",
    "    '''\n",
    "    temp = df.copy()\n",
    "    for col in columns:\n",
    "        for i in list(pd.get_dummies(temp[col]))[-1::-1]:    \n",
    "            temp.insert(loc=list(temp).index(col)+1 ,column=col+str(i), value=pd.get_dummies(temp.loc[:,col]).loc[:,i])\n",
    "        temp = temp.drop([col], axis=1)\n",
    "    return temp"
   ]
  },
  {
   "cell_type": "code",
   "execution_count": null,
   "metadata": {
    "collapsed": true
   },
   "outputs": [],
   "source": [
    "import io\n",
    "import pydot\n",
    "from IPython.core.display import Image \n",
    "from sklearn.tree import export_graphviz\n",
    "\n",
    "# 강사님 함수\n",
    "def draw_decision_tree(model, feature_names):\n",
    "    dot_buf = io.StringIO() \n",
    "    export_graphviz(model, out_file=dot_buf, feature_names=feature_names)\n",
    "    graph = pydot.graph_from_dot_data(dot_buf.getvalue())[0] \n",
    "    image = graph.create_png()\n",
    "    return Image(image)"
   ]
  },
  {
   "cell_type": "markdown",
   "metadata": {},
   "source": [
    "# data load & 전처리"
   ]
  },
  {
   "cell_type": "markdown",
   "metadata": {},
   "source": [
    "### train data"
   ]
  },
  {
   "cell_type": "code",
   "execution_count": 6,
   "metadata": {
    "collapsed": true
   },
   "outputs": [],
   "source": [
    "df_train = pd.read_csv('./data/act_train.csv', parse_dates=['date'])\n",
    "df_people = pd.read_csv('./data/people.csv', parse_dates=['date'])\n",
    "df_merge = pd.merge(df_train, df_people, on='people_id')"
   ]
  },
  {
   "cell_type": "code",
   "execution_count": 7,
   "metadata": {},
   "outputs": [
    {
     "name": "stderr",
     "output_type": "stream",
     "text": [
      "C:\\ProgramData\\Anaconda3\\lib\\site-packages\\ipykernel_launcher.py:30: SettingWithCopyWarning: \n",
      "A value is trying to be set on a copy of a slice from a DataFrame\n",
      "\n",
      "See the caveats in the documentation: http://pandas.pydata.org/pandas-docs/stable/indexing.html#indexing-view-versus-copy\n"
     ]
    }
   ],
   "source": [
    "str_to_num(df_merge, train=True)\n",
    "date_modify(df_merge)\n",
    "df_merge = add_bool_sum(df_merge)\n",
    "del df_train"
   ]
  },
  {
   "cell_type": "markdown",
   "metadata": {},
   "source": [
    "### test data"
   ]
  },
  {
   "cell_type": "code",
   "execution_count": 8,
   "metadata": {
    "collapsed": true
   },
   "outputs": [],
   "source": [
    "df_test = pd.read_csv('./data/act_test.csv', parse_dates=['date'])\n",
    "df_merge_test = pd.merge(df_test, df_people, how='inner', on='people_id')"
   ]
  },
  {
   "cell_type": "code",
   "execution_count": 9,
   "metadata": {
    "collapsed": true
   },
   "outputs": [],
   "source": [
    "# submissin 만들때 필요함\n",
    "df_test_act_id = df_merge_test.activity_id.copy()"
   ]
  },
  {
   "cell_type": "code",
   "execution_count": 10,
   "metadata": {},
   "outputs": [
    {
     "name": "stderr",
     "output_type": "stream",
     "text": [
      "C:\\ProgramData\\Anaconda3\\lib\\site-packages\\ipykernel_launcher.py:30: SettingWithCopyWarning: \n",
      "A value is trying to be set on a copy of a slice from a DataFrame\n",
      "\n",
      "See the caveats in the documentation: http://pandas.pydata.org/pandas-docs/stable/indexing.html#indexing-view-versus-copy\n"
     ]
    }
   ],
   "source": [
    "str_to_num(df_merge_test, train=False)\n",
    "date_modify(df_merge_test)\n",
    "df_merge_test = add_bool_sum(df_merge_test)\n",
    "del df_test, df_people"
   ]
  },
  {
   "cell_type": "markdown",
   "metadata": {},
   "source": [
    "#### save data"
   ]
  },
  {
   "cell_type": "code",
   "execution_count": null,
   "metadata": {
    "collapsed": true
   },
   "outputs": [],
   "source": [
    "# df_merge.to_csv(\"train_merge.csv\")\n",
    "# df_merge_test.to_csv(\"test_merge.csv\")"
   ]
  },
  {
   "cell_type": "code",
   "execution_count": null,
   "metadata": {
    "collapsed": true
   },
   "outputs": [],
   "source": [
    "# df_merge = pd.read_csv('./train_merge.csv', parse_dates=['date_x', 'date_y'])\n",
    "# df_merge_test = pd.read_csv('./test_merge.csv', parse_dates=['date_x', 'date_y'])"
   ]
  },
  {
   "cell_type": "markdown",
   "metadata": {},
   "source": [
    "# group & date"
   ]
  },
  {
   "cell_type": "code",
   "execution_count": 11,
   "metadata": {
    "collapsed": true
   },
   "outputs": [],
   "source": [
    "df_gd = df_merge.loc[:, ['group_1', 'days', 'outcome']].copy()"
   ]
  },
  {
   "cell_type": "code",
   "execution_count": 12,
   "metadata": {
    "collapsed": true
   },
   "outputs": [],
   "source": [
    "df_gd_test = pd.DataFrame({'activity_id' : df_test_act_id, 'group_1' : df_merge_test.group_1, 'days' : df_merge_test['days'], 'outcome':np.nan})         "
   ]
  },
  {
   "cell_type": "code",
   "execution_count": 99,
   "metadata": {
    "collapsed": true
   },
   "outputs": [
    {
     "data": {
      "text/html": [
       "<div>\n",
       "<style>\n",
       "    .dataframe thead tr:only-child th {\n",
       "        text-align: right;\n",
       "    }\n",
       "\n",
       "    .dataframe thead th {\n",
       "        text-align: left;\n",
       "    }\n",
       "\n",
       "    .dataframe tbody tr th {\n",
       "        vertical-align: top;\n",
       "    }\n",
       "</style>\n",
       "<table border=\"1\" class=\"dataframe\">\n",
       "  <thead>\n",
       "    <tr style=\"text-align: right;\">\n",
       "      <th></th>\n",
       "      <th>activity_id</th>\n",
       "      <th>days</th>\n",
       "      <th>group_1</th>\n",
       "      <th>outcome</th>\n",
       "    </tr>\n",
       "  </thead>\n",
       "  <tbody>\n",
       "    <tr>\n",
       "      <th>0</th>\n",
       "      <td>act1_249281</td>\n",
       "      <td>3</td>\n",
       "      <td>22593</td>\n",
       "      <td>0.0</td>\n",
       "    </tr>\n",
       "    <tr>\n",
       "      <th>1</th>\n",
       "      <td>act2_230855</td>\n",
       "      <td>3</td>\n",
       "      <td>22593</td>\n",
       "      <td>0.0</td>\n",
       "    </tr>\n",
       "    <tr>\n",
       "      <th>2</th>\n",
       "      <td>act1_240724</td>\n",
       "      <td>89</td>\n",
       "      <td>25417</td>\n",
       "      <td>1.0</td>\n",
       "    </tr>\n",
       "    <tr>\n",
       "      <th>3</th>\n",
       "      <td>act1_83552</td>\n",
       "      <td>133</td>\n",
       "      <td>25417</td>\n",
       "      <td>1.0</td>\n",
       "    </tr>\n",
       "    <tr>\n",
       "      <th>4</th>\n",
       "      <td>act2_1043301</td>\n",
       "      <td>90</td>\n",
       "      <td>25417</td>\n",
       "      <td>1.0</td>\n",
       "    </tr>\n",
       "    <tr>\n",
       "      <th>5</th>\n",
       "      <td>act2_112890</td>\n",
       "      <td>133</td>\n",
       "      <td>25417</td>\n",
       "      <td>1.0</td>\n",
       "    </tr>\n",
       "    <tr>\n",
       "      <th>6</th>\n",
       "      <td>act2_1169930</td>\n",
       "      <td>90</td>\n",
       "      <td>25417</td>\n",
       "      <td>1.0</td>\n",
       "    </tr>\n",
       "    <tr>\n",
       "      <th>7</th>\n",
       "      <td>act2_1924448</td>\n",
       "      <td>90</td>\n",
       "      <td>25417</td>\n",
       "      <td>1.0</td>\n",
       "    </tr>\n",
       "    <tr>\n",
       "      <th>8</th>\n",
       "      <td>act2_1953554</td>\n",
       "      <td>90</td>\n",
       "      <td>25417</td>\n",
       "      <td>1.0</td>\n",
       "    </tr>\n",
       "    <tr>\n",
       "      <th>9</th>\n",
       "      <td>act2_1971739</td>\n",
       "      <td>134</td>\n",
       "      <td>25417</td>\n",
       "      <td>1.0</td>\n",
       "    </tr>\n",
       "    <tr>\n",
       "      <th>10</th>\n",
       "      <td>act2_2839282</td>\n",
       "      <td>91</td>\n",
       "      <td>25417</td>\n",
       "      <td>1.0</td>\n",
       "    </tr>\n",
       "    <tr>\n",
       "      <th>11</th>\n",
       "      <td>act2_2889351</td>\n",
       "      <td>133</td>\n",
       "      <td>25417</td>\n",
       "      <td>1.0</td>\n",
       "    </tr>\n",
       "    <tr>\n",
       "      <th>12</th>\n",
       "      <td>act2_3238933</td>\n",
       "      <td>90</td>\n",
       "      <td>25417</td>\n",
       "      <td>1.0</td>\n",
       "    </tr>\n",
       "    <tr>\n",
       "      <th>13</th>\n",
       "      <td>act2_3384798</td>\n",
       "      <td>90</td>\n",
       "      <td>25417</td>\n",
       "      <td>1.0</td>\n",
       "    </tr>\n",
       "    <tr>\n",
       "      <th>14</th>\n",
       "      <td>act2_3701358</td>\n",
       "      <td>133</td>\n",
       "      <td>25417</td>\n",
       "      <td>1.0</td>\n",
       "    </tr>\n",
       "    <tr>\n",
       "      <th>15</th>\n",
       "      <td>act2_3715695</td>\n",
       "      <td>90</td>\n",
       "      <td>25417</td>\n",
       "      <td>1.0</td>\n",
       "    </tr>\n",
       "    <tr>\n",
       "      <th>16</th>\n",
       "      <td>act2_3734085</td>\n",
       "      <td>133</td>\n",
       "      <td>25417</td>\n",
       "      <td>1.0</td>\n",
       "    </tr>\n",
       "    <tr>\n",
       "      <th>17</th>\n",
       "      <td>act2_3961391</td>\n",
       "      <td>91</td>\n",
       "      <td>25417</td>\n",
       "      <td>1.0</td>\n",
       "    </tr>\n",
       "    <tr>\n",
       "      <th>18</th>\n",
       "      <td>act2_4167474</td>\n",
       "      <td>90</td>\n",
       "      <td>25417</td>\n",
       "      <td>1.0</td>\n",
       "    </tr>\n",
       "    <tr>\n",
       "      <th>19</th>\n",
       "      <td>act2_4397847</td>\n",
       "      <td>90</td>\n",
       "      <td>25417</td>\n",
       "      <td>1.0</td>\n",
       "    </tr>\n",
       "    <tr>\n",
       "      <th>20</th>\n",
       "      <td>act2_4649285</td>\n",
       "      <td>90</td>\n",
       "      <td>25417</td>\n",
       "      <td>1.0</td>\n",
       "    </tr>\n",
       "    <tr>\n",
       "      <th>21</th>\n",
       "      <td>act2_538607</td>\n",
       "      <td>90</td>\n",
       "      <td>25417</td>\n",
       "      <td>1.0</td>\n",
       "    </tr>\n",
       "    <tr>\n",
       "      <th>22</th>\n",
       "      <td>act2_584216</td>\n",
       "      <td>133</td>\n",
       "      <td>25417</td>\n",
       "      <td>1.0</td>\n",
       "    </tr>\n",
       "    <tr>\n",
       "      <th>23</th>\n",
       "      <td>act2_596561</td>\n",
       "      <td>90</td>\n",
       "      <td>25417</td>\n",
       "      <td>1.0</td>\n",
       "    </tr>\n",
       "    <tr>\n",
       "      <th>24</th>\n",
       "      <td>act2_649143</td>\n",
       "      <td>133</td>\n",
       "      <td>25417</td>\n",
       "      <td>1.0</td>\n",
       "    </tr>\n",
       "    <tr>\n",
       "      <th>...</th>\n",
       "      <td>...</td>\n",
       "      <td>...</td>\n",
       "      <td>...</td>\n",
       "      <td>...</td>\n",
       "    </tr>\n",
       "    <tr>\n",
       "      <th>498662</th>\n",
       "      <td>act2_568974</td>\n",
       "      <td>343</td>\n",
       "      <td>667</td>\n",
       "      <td>1.0</td>\n",
       "    </tr>\n",
       "    <tr>\n",
       "      <th>498663</th>\n",
       "      <td>act1_187412</td>\n",
       "      <td>346</td>\n",
       "      <td>11303</td>\n",
       "      <td>1.0</td>\n",
       "    </tr>\n",
       "    <tr>\n",
       "      <th>498664</th>\n",
       "      <td>act2_1907199</td>\n",
       "      <td>347</td>\n",
       "      <td>11303</td>\n",
       "      <td>1.0</td>\n",
       "    </tr>\n",
       "    <tr>\n",
       "      <th>498665</th>\n",
       "      <td>act2_3825329</td>\n",
       "      <td>347</td>\n",
       "      <td>11303</td>\n",
       "      <td>1.0</td>\n",
       "    </tr>\n",
       "    <tr>\n",
       "      <th>498666</th>\n",
       "      <td>act2_4540493</td>\n",
       "      <td>347</td>\n",
       "      <td>11303</td>\n",
       "      <td>1.0</td>\n",
       "    </tr>\n",
       "    <tr>\n",
       "      <th>498667</th>\n",
       "      <td>act2_4716058</td>\n",
       "      <td>347</td>\n",
       "      <td>11303</td>\n",
       "      <td>1.0</td>\n",
       "    </tr>\n",
       "    <tr>\n",
       "      <th>498668</th>\n",
       "      <td>act2_1374659</td>\n",
       "      <td>60</td>\n",
       "      <td>17304</td>\n",
       "      <td>0.0</td>\n",
       "    </tr>\n",
       "    <tr>\n",
       "      <th>498669</th>\n",
       "      <td>act2_4191036</td>\n",
       "      <td>60</td>\n",
       "      <td>17304</td>\n",
       "      <td>0.0</td>\n",
       "    </tr>\n",
       "    <tr>\n",
       "      <th>498670</th>\n",
       "      <td>act2_1893941</td>\n",
       "      <td>93</td>\n",
       "      <td>17304</td>\n",
       "      <td>0.0</td>\n",
       "    </tr>\n",
       "    <tr>\n",
       "      <th>498671</th>\n",
       "      <td>act2_2245699</td>\n",
       "      <td>394</td>\n",
       "      <td>17304</td>\n",
       "      <td>0.0</td>\n",
       "    </tr>\n",
       "    <tr>\n",
       "      <th>498672</th>\n",
       "      <td>act2_2316472</td>\n",
       "      <td>326</td>\n",
       "      <td>17304</td>\n",
       "      <td>0.0</td>\n",
       "    </tr>\n",
       "    <tr>\n",
       "      <th>498673</th>\n",
       "      <td>act2_2372813</td>\n",
       "      <td>279</td>\n",
       "      <td>17304</td>\n",
       "      <td>0.0</td>\n",
       "    </tr>\n",
       "    <tr>\n",
       "      <th>498674</th>\n",
       "      <td>act2_2433185</td>\n",
       "      <td>69</td>\n",
       "      <td>17304</td>\n",
       "      <td>0.0</td>\n",
       "    </tr>\n",
       "    <tr>\n",
       "      <th>498675</th>\n",
       "      <td>act2_2576346</td>\n",
       "      <td>135</td>\n",
       "      <td>17304</td>\n",
       "      <td>0.0</td>\n",
       "    </tr>\n",
       "    <tr>\n",
       "      <th>498676</th>\n",
       "      <td>act2_2718841</td>\n",
       "      <td>131</td>\n",
       "      <td>17304</td>\n",
       "      <td>0.0</td>\n",
       "    </tr>\n",
       "    <tr>\n",
       "      <th>498677</th>\n",
       "      <td>act2_2902742</td>\n",
       "      <td>58</td>\n",
       "      <td>17304</td>\n",
       "      <td>0.0</td>\n",
       "    </tr>\n",
       "    <tr>\n",
       "      <th>498678</th>\n",
       "      <td>act2_3448131</td>\n",
       "      <td>326</td>\n",
       "      <td>17304</td>\n",
       "      <td>0.0</td>\n",
       "    </tr>\n",
       "    <tr>\n",
       "      <th>498679</th>\n",
       "      <td>act2_3757705</td>\n",
       "      <td>23</td>\n",
       "      <td>17304</td>\n",
       "      <td>0.0</td>\n",
       "    </tr>\n",
       "    <tr>\n",
       "      <th>498680</th>\n",
       "      <td>act2_4149173</td>\n",
       "      <td>111</td>\n",
       "      <td>17304</td>\n",
       "      <td>0.0</td>\n",
       "    </tr>\n",
       "    <tr>\n",
       "      <th>498681</th>\n",
       "      <td>act2_4355610</td>\n",
       "      <td>328</td>\n",
       "      <td>17304</td>\n",
       "      <td>0.0</td>\n",
       "    </tr>\n",
       "    <tr>\n",
       "      <th>498682</th>\n",
       "      <td>act2_4367092</td>\n",
       "      <td>279</td>\n",
       "      <td>17304</td>\n",
       "      <td>0.0</td>\n",
       "    </tr>\n",
       "    <tr>\n",
       "      <th>498683</th>\n",
       "      <td>act2_4404220</td>\n",
       "      <td>118</td>\n",
       "      <td>17304</td>\n",
       "      <td>0.0</td>\n",
       "    </tr>\n",
       "    <tr>\n",
       "      <th>498684</th>\n",
       "      <td>act2_448830</td>\n",
       "      <td>16</td>\n",
       "      <td>17304</td>\n",
       "      <td>0.0</td>\n",
       "    </tr>\n",
       "    <tr>\n",
       "      <th>498685</th>\n",
       "      <td>act2_450133</td>\n",
       "      <td>16</td>\n",
       "      <td>17304</td>\n",
       "      <td>0.0</td>\n",
       "    </tr>\n",
       "    <tr>\n",
       "      <th>498686</th>\n",
       "      <td>act2_847967</td>\n",
       "      <td>90</td>\n",
       "      <td>17304</td>\n",
       "      <td>0.0</td>\n",
       "    </tr>\n",
       "  </tbody>\n",
       "</table>\n",
       "<p>498687 rows × 4 columns</p>\n",
       "</div>"
      ],
      "text/plain": [
       "         activity_id  days  group_1  outcome\n",
       "0        act1_249281     3    22593      0.0\n",
       "1        act2_230855     3    22593      0.0\n",
       "2        act1_240724    89    25417      1.0\n",
       "3         act1_83552   133    25417      1.0\n",
       "4       act2_1043301    90    25417      1.0\n",
       "5        act2_112890   133    25417      1.0\n",
       "6       act2_1169930    90    25417      1.0\n",
       "7       act2_1924448    90    25417      1.0\n",
       "8       act2_1953554    90    25417      1.0\n",
       "9       act2_1971739   134    25417      1.0\n",
       "10      act2_2839282    91    25417      1.0\n",
       "11      act2_2889351   133    25417      1.0\n",
       "12      act2_3238933    90    25417      1.0\n",
       "13      act2_3384798    90    25417      1.0\n",
       "14      act2_3701358   133    25417      1.0\n",
       "15      act2_3715695    90    25417      1.0\n",
       "16      act2_3734085   133    25417      1.0\n",
       "17      act2_3961391    91    25417      1.0\n",
       "18      act2_4167474    90    25417      1.0\n",
       "19      act2_4397847    90    25417      1.0\n",
       "20      act2_4649285    90    25417      1.0\n",
       "21       act2_538607    90    25417      1.0\n",
       "22       act2_584216   133    25417      1.0\n",
       "23       act2_596561    90    25417      1.0\n",
       "24       act2_649143   133    25417      1.0\n",
       "...              ...   ...      ...      ...\n",
       "498662   act2_568974   343      667      1.0\n",
       "498663   act1_187412   346    11303      1.0\n",
       "498664  act2_1907199   347    11303      1.0\n",
       "498665  act2_3825329   347    11303      1.0\n",
       "498666  act2_4540493   347    11303      1.0\n",
       "498667  act2_4716058   347    11303      1.0\n",
       "498668  act2_1374659    60    17304      0.0\n",
       "498669  act2_4191036    60    17304      0.0\n",
       "498670  act2_1893941    93    17304      0.0\n",
       "498671  act2_2245699   394    17304      0.0\n",
       "498672  act2_2316472   326    17304      0.0\n",
       "498673  act2_2372813   279    17304      0.0\n",
       "498674  act2_2433185    69    17304      0.0\n",
       "498675  act2_2576346   135    17304      0.0\n",
       "498676  act2_2718841   131    17304      0.0\n",
       "498677  act2_2902742    58    17304      0.0\n",
       "498678  act2_3448131   326    17304      0.0\n",
       "498679  act2_3757705    23    17304      0.0\n",
       "498680  act2_4149173   111    17304      0.0\n",
       "498681  act2_4355610   328    17304      0.0\n",
       "498682  act2_4367092   279    17304      0.0\n",
       "498683  act2_4404220   118    17304      0.0\n",
       "498684   act2_448830    16    17304      0.0\n",
       "498685   act2_450133    16    17304      0.0\n",
       "498686   act2_847967    90    17304      0.0\n",
       "\n",
       "[498687 rows x 4 columns]"
      ]
     },
     "execution_count": 99,
     "metadata": {},
     "output_type": "execute_result"
    }
   ],
   "source": [
    "df_gd_test"
   ]
  },
  {
   "cell_type": "code",
   "execution_count": 13,
   "metadata": {},
   "outputs": [
    {
     "name": "stdout",
     "output_type": "stream",
     "text": [
      "Wall time: 4min 8s\n"
     ]
    }
   ],
   "source": [
    "%%time\n",
    "gp_0 = []\n",
    "gp_1 = []\n",
    "gp_01= []\n",
    "for gp in df_gd.group_1.unique():\n",
    "    if len(df_gd[df_gd.group_1==gp].loc[:,'outcome'].unique()) == 1:\n",
    "        if df_gd[df_gd.group_1==gp].loc[:,'outcome'].iloc[0]:\n",
    "            gp_1.append(gp)\n",
    "        else:\n",
    "            gp_0.append(gp)\n",
    "    else :\n",
    "        gp_01.append(gp)"
   ]
  },
  {
   "cell_type": "code",
   "execution_count": 14,
   "metadata": {},
   "outputs": [
    {
     "name": "stdout",
     "output_type": "stream",
     "text": [
      "Wall time: 5.67 s\n"
     ]
    }
   ],
   "source": [
    "%%time\n",
    "gp_0_test = []\n",
    "gp_1_test = []\n",
    "gp_01_test= []\n",
    "gp_nan_test = []\n",
    "for col in df_gd_test.group_1.unique():\n",
    "    if col in gp_0:\n",
    "        gp_0_test.append(col)\n",
    "    elif col in gp_1:\n",
    "        gp_1_test.append(col)\n",
    "    elif col in gp_01:\n",
    "        gp_01_test.append(col)\n",
    "    else :\n",
    "        gp_nan_test.append(col)"
   ]
  },
  {
   "cell_type": "code",
   "execution_count": 36,
   "metadata": {},
   "outputs": [
    {
     "name": "stdout",
     "output_type": "stream",
     "text": [
      "Wall time: 1min 40s\n"
     ]
    }
   ],
   "source": [
    "%%time\n",
    "gp_dict = dict()\n",
    "for gp in gp_01_test:\n",
    "    gp_dict[gp] = []\n",
    "    a = df_gd[df_gd.group_1==gp].loc[:,['days','outcome']].sort_values(by=['days'])\n",
    "    for i in range(len(df_gd[df_gd.group_1==gp])-1):\n",
    "        if a.iloc[i].outcome - a.iloc[i+1].outcome == 1:\n",
    "            gp_dict[gp].append(a.iloc[i].days)\n",
    "            gp_dict[gp].append(a.iloc[i+1].days)\n",
    "        elif a.iloc[i].outcome - a.iloc[i+1].outcome == -1:\n",
    "            gp_dict[gp].append(-a.iloc[i].days)\n",
    "            gp_dict[gp].append(a.iloc[i+1].days)\n",
    "        else:\n",
    "            pass"
   ]
  },
  {
   "cell_type": "code",
   "execution_count": 37,
   "metadata": {},
   "outputs": [
    {
     "data": {
      "text/plain": [
       "{7111: [-80, 83],\n",
       " 2223: [74, 178],\n",
       " 17688: [282, 283, -293, 297],\n",
       " 10082: [311, 368],\n",
       " 17883: [-116, 143],\n",
       " 23761: [395, 408],\n",
       " 19334: [-122, 200],\n",
       " 14940: [296, 347],\n",
       " 25318: [154, 158],\n",
       " 12560: [65, 66, -99, 107],\n",
       " 20108: [-118, 121],\n",
       " 16762: [-178, 179],\n",
       " 1171: [-217, 252],\n",
       " 1227: [348, 375],\n",
       " 5748: [228, 321],\n",
       " 18981: [-5, 32],\n",
       " 21014: [-13, 45],\n",
       " 5031: [170, 180, -180, 229],\n",
       " 20343: [103, 199, -235, 247],\n",
       " 4610: [173, 180, -254, 258],\n",
       " 1298: [212, 226],\n",
       " 5188: [375, 383],\n",
       " 2905: [356, 359],\n",
       " 4442: [285, 291],\n",
       " 17548: [6, 18],\n",
       " 19746: [363, 383],\n",
       " 1482: [360, 361, -364, 367],\n",
       " 26244: [88, 115, -334, 363],\n",
       " 39769: [354, 380],\n",
       " 23578: [-179, 192],\n",
       " 18261: [363, 367],\n",
       " 33121: [40, 47, -47, 59],\n",
       " 1039: [352, 363],\n",
       " 22937: [172, 184, -268, 271],\n",
       " 30461: [-166, 177],\n",
       " 19152: [268, 269],\n",
       " 764: [172, 284],\n",
       " 12001: [119, 228],\n",
       " 9702: [-191, 192],\n",
       " 27730: [334, 363],\n",
       " 19752: [-252, 253],\n",
       " 31294: [-277, 310],\n",
       " 8954: [341, 342],\n",
       " 8771: [200, 209, -213, 230],\n",
       " 17387: [12, 13],\n",
       " 9442: [225, 227],\n",
       " 20069: [74, 75],\n",
       " 13585: [233, 234, -248, 282],\n",
       " 1649: [90, 91, -133, 137],\n",
       " 18594: [-215, 240],\n",
       " 19458: [-171, 172],\n",
       " 1593: [-221, 222],\n",
       " 14038: [330, 343, -349, 368],\n",
       " 7011: [138, 153],\n",
       " 1182: [346, 362],\n",
       " 2124: [312, 369],\n",
       " 238: [-10, 103],\n",
       " 20338: [-165, 214],\n",
       " 19232: [-237, 248],\n",
       " 3843: [256, 258],\n",
       " 8551: [238, 271],\n",
       " 29497: [342, 355],\n",
       " 4937: [41, 408],\n",
       " 6479: [-128, 188],\n",
       " 4225: [66, 75, -179, 191],\n",
       " 19929: [-158, 177],\n",
       " 3335: [-151, 153],\n",
       " 18450: [-378, 381],\n",
       " 2153: [123, 132],\n",
       " 7259: [-229, 321],\n",
       " 16733: [403, 406],\n",
       " 17503: [-264, 269],\n",
       " 14044: [61, 66],\n",
       " 1955: [-47, 53],\n",
       " 27360: [-116, 156],\n",
       " 19565: [232, 330],\n",
       " 7999: [277, 375],\n",
       " 4804: [115, 138],\n",
       " 23190: [197, 250],\n",
       " 17398: [-216, 220],\n",
       " 14148: [390, 396],\n",
       " 17325: [-254, 277],\n",
       " 22487: [-99, 178],\n",
       " 2563: [-296, 395],\n",
       " 17305: [-47, 61],\n",
       " 38211: [203, 297, -297, 361],\n",
       " 17629: [-364, 383],\n",
       " 22668: [347, 390],\n",
       " 21388: [256, 265],\n",
       " 19957: [-158, 174],\n",
       " 17111: [67, 88],\n",
       " 11412: [-118, 128],\n",
       " 4146: [-146, 154],\n",
       " 9951: [221, 234, -234, 376],\n",
       " 410: [192, 199, -362, 368],\n",
       " 5043: [268, 346],\n",
       " 16876: [-206, 222],\n",
       " 7778: [255, 270, -331, 334],\n",
       " 24975: [179, 191],\n",
       " 4765: [332, 369],\n",
       " 1043: [228, 278],\n",
       " 5299: [132, 367],\n",
       " 19579: [61, 187],\n",
       " 19662: [339, 340],\n",
       " 25632: [-290, 341],\n",
       " 11419: [320, 326, -332, 338],\n",
       " 16632: [-89, 103],\n",
       " 5681: [137, 153, -153, 156],\n",
       " 1315: [285, 297, -347, 354],\n",
       " 931: [278, 286, -286, 312],\n",
       " 1326: [90, 91],\n",
       " 2903: [228, 333],\n",
       " 7386: [-109, 255],\n",
       " 2038: [144, 151, -153, 155],\n",
       " 21210: [-375, 409],\n",
       " 5551: [251, 363],\n",
       " 40: [-114, 115],\n",
       " 18775: [60, 61, -79, 82],\n",
       " 20579: [0, 255],\n",
       " 16934: [362, 373],\n",
       " 23669: [297, 318],\n",
       " 5119: [137, 153, -153, 155],\n",
       " 14877: [168, 192, -194, 226],\n",
       " 7113: [168, 182, -182, 189],\n",
       " 19521: [-349, 361],\n",
       " 10293: [34, 48, -138, 173],\n",
       " 9154: [258, 297],\n",
       " 5149: [-89, 90],\n",
       " 32883: [-296, 375],\n",
       " 28670: [31, 45, -75, 80],\n",
       " 292: [132, 137, -158, 174],\n",
       " 5955: [6, 32, -59, 79],\n",
       " 23027: [325, 339],\n",
       " 13413: [285, 292, -340, 350],\n",
       " 9066: [129, 234],\n",
       " 23740: [-213, 270],\n",
       " 24987: [198, 212],\n",
       " 14330: [249, 250],\n",
       " 21032: [354, 367],\n",
       " 18956: [370, 389],\n",
       " 11198: [91, 109, -109, 175],\n",
       " 17877: [289, 291, -291, 369],\n",
       " 18581: [40, 123, -127, 228],\n",
       " 5904: [271, 319],\n",
       " 7388: [346, 387],\n",
       " 5644: [-209, 326],\n",
       " 649: [349, 360],\n",
       " 21968: [-108, 284],\n",
       " 18906: [292, 311, -391, 395],\n",
       " 19083: [-92, 219],\n",
       " 21292: [-11, 98],\n",
       " 2861: [301, 311, -320, 325],\n",
       " 5399: [405, 408],\n",
       " 17542: [214, 215, -254, 256],\n",
       " 18755: [-34, 46],\n",
       " 19386: [289, 383],\n",
       " 161: [124, 153, -153, 165],\n",
       " 29628: [-133, 177],\n",
       " 2133: [118, 123],\n",
       " 11692: [266, 362],\n",
       " 25021: [99, 165, -228, 252],\n",
       " 1915: [387, 388],\n",
       " 1540: [387, 390],\n",
       " 9022: [293, 360],\n",
       " 39184: [-137, 194],\n",
       " 5036: [270, 276],\n",
       " 4966: [347, 370],\n",
       " 1920: [75, 78, -95, 100],\n",
       " 3946: [-58, 59],\n",
       " 28172: [-46, 88],\n",
       " 17690: [225, 227],\n",
       " 5365: [10, 13],\n",
       " 19855: [-103, 145],\n",
       " 21866: [-24, 31],\n",
       " 7819: [257, 263],\n",
       " 19687: [-135, 137],\n",
       " 6562: [89, 118, -138, 172],\n",
       " 22592: [-17, 38],\n",
       " 17655: [255, 327],\n",
       " 35945: [228, 296],\n",
       " 23069: [67, 153],\n",
       " 2747: [135, 158],\n",
       " 5718: [199, 222, -276, 283],\n",
       " 2175: [112, 131, -366, 368],\n",
       " 37135: [230, 233, -354, 376],\n",
       " 3073: [394, 395],\n",
       " 18910: [-32, 33, 396, 403],\n",
       " 4655: [-179, 200],\n",
       " 24317: [-159, 172],\n",
       " 21592: [-291, 297],\n",
       " 13434: [-401, 405],\n",
       " 167: [-188, 192],\n",
       " 7930: [252, 308],\n",
       " 18018: [-177, 284],\n",
       " 2077: [284, 296],\n",
       " 12188: [394, 408],\n",
       " 25342: [340, 369],\n",
       " 18124: [-96, 108],\n",
       " 9712: [334, 340],\n",
       " 25415: [278, 326, -326, 395],\n",
       " 24428: [82, 131],\n",
       " 39861: [272, 284],\n",
       " 19694: [-138, 153],\n",
       " 18415: [-135, 153],\n",
       " 18595: [-54, 188],\n",
       " 3775: [212, 262],\n",
       " 24985: [248, 341],\n",
       " 21739: [346, 380],\n",
       " 17312: [33, 103],\n",
       " 3561: [346, 347],\n",
       " 8363: [228, 263],\n",
       " 942: [66, 96, -257, 277],\n",
       " 6337: [261, 268],\n",
       " 9351: [-31, 32],\n",
       " 6981: [117, 172, -229, 249],\n",
       " 21335: [263, 327],\n",
       " 3486: [377, 391],\n",
       " 14769: [86, 87, -138, 172],\n",
       " 498: [229, 250],\n",
       " 592: [228, 233],\n",
       " 35139: [-296, 297],\n",
       " 29378: [-91, 93],\n",
       " 7655: [241, 404],\n",
       " 18681: [-28, 30],\n",
       " 5593: [-131, 192],\n",
       " 21765: [-45, 58],\n",
       " 18151: [208, 254, -258, 342],\n",
       " 3524: [-313, 341],\n",
       " 193: [137, 167],\n",
       " 9726: [250, 257],\n",
       " 33964: [163, 251],\n",
       " 14790: [290, 312],\n",
       " 36903: [115, 129, -142, 234],\n",
       " 20169: [-254, 278],\n",
       " 5721: [-395, 401],\n",
       " 1000: [-63, 82],\n",
       " 39849: [-216, 229],\n",
       " 443: [209, 210],\n",
       " 2270: [179, 184, -212, 233],\n",
       " 1132: [131, 149],\n",
       " 18080: [4, 19, -172, 173],\n",
       " 2211: [290, 334],\n",
       " 17165: [378, 401],\n",
       " 605: [256, 383],\n",
       " 22915: [66, 67],\n",
       " 4771: [132, 158, -158, 191],\n",
       " 20445: [-346, 348],\n",
       " 17006: [-37, 213],\n",
       " 45260: [-259, 405],\n",
       " 17994: [-230, 247],\n",
       " 16374: [-69, 82],\n",
       " 38337: [-91, 216],\n",
       " 7110: [-110, 157],\n",
       " 3912: [46, 74, -165, 250],\n",
       " 2978: [129, 256],\n",
       " 21668: [-102, 103],\n",
       " 18950: [131, 132],\n",
       " 3237: [81, 82, -157, 163],\n",
       " 2813: [235, 250],\n",
       " 6809: [-283, 286],\n",
       " 5523: [31, 369],\n",
       " 7209: [41, 191],\n",
       " 23698: [356, 360],\n",
       " 6443: [150, 373],\n",
       " 30053: [-188, 198],\n",
       " 272: [373, 395],\n",
       " 3590: [356, 403],\n",
       " 1222: [136, 137],\n",
       " 5063: [137, 156],\n",
       " 2650: [256, 269],\n",
       " 43104: [342, 381],\n",
       " 16462: [-32, 192],\n",
       " 6264: [73, 87],\n",
       " 4440: [201, 373],\n",
       " 9579: [194, 206, -206, 354],\n",
       " 9930: [209, 250, -253, 276],\n",
       " 10971: [228, 297, -297, 324],\n",
       " 6806: [347, 408],\n",
       " 25404: [292, 308],\n",
       " 10414: [180, 185],\n",
       " 6820: [257, 347],\n",
       " 5433: [258, 369],\n",
       " 17295: [-11, 18],\n",
       " 5174: [-110, 118],\n",
       " 17599: [-84, 89],\n",
       " 10744: [359, 362],\n",
       " 17390: [-257, 278],\n",
       " 28201: [105, 186, -213, 269],\n",
       " 22800: [383, 402],\n",
       " 346: [219, 263, -296, 319],\n",
       " 26398: [-335, 339],\n",
       " 5049: [257, 366],\n",
       " 1905: [-348, 353],\n",
       " 20224: [-118, 130],\n",
       " 1399: [279, 409],\n",
       " 3717: [375, 408],\n",
       " 13912: [235, 247],\n",
       " 666: [214, 332],\n",
       " 10526: [228, 235],\n",
       " 21856: [-116, 219],\n",
       " 186: [153, 155, -172, 173],\n",
       " 13540: [198, 201, -222, 227],\n",
       " 3650: [81, 83],\n",
       " 19967: [82, 98, -373, 395],\n",
       " 6296: [41, 333],\n",
       " 136: [-101, 229],\n",
       " 10913: [253, 277, -289, 319],\n",
       " 6025: [79, 107, -172, 181],\n",
       " 6447: [131, 207],\n",
       " 22569: [-178, 191],\n",
       " 22465: [353, 397],\n",
       " 5201: [335, 336, -336, 344],\n",
       " 3696: [366, 384],\n",
       " 15993: [51, 103],\n",
       " 17: [256, 333],\n",
       " 6741: [241, 334, -341, 369],\n",
       " 12694: [25, 206],\n",
       " 21319: [-69, 76],\n",
       " 14990: [278, 286],\n",
       " 13271: [206, 207],\n",
       " 5090: [53, 59],\n",
       " 3579: [84, 88, -205, 206],\n",
       " 5400: [272, 275],\n",
       " 22338: [-183, 250],\n",
       " 9585: [-3, 38],\n",
       " 21259: [60, 61, -165, 168],\n",
       " 1370: [332, 362],\n",
       " 28613: [229, 237, -285, 320],\n",
       " 20901: [205, 219],\n",
       " 20082: [-297, 382],\n",
       " 19869: [112, 193],\n",
       " 19237: [-131, 179],\n",
       " 34748: [12, 348],\n",
       " 4834: [-20, 25],\n",
       " 12473: [-325, 332],\n",
       " 1741: [-229, 247],\n",
       " 25049: [-75, 240],\n",
       " 12250: [364, 391],\n",
       " 20874: [264, 325],\n",
       " 17676: [138, 156],\n",
       " 6982: [-228, 235],\n",
       " 18007: [-19, 68],\n",
       " 44358: [279, 334],\n",
       " 4405: [-25, 75],\n",
       " 12570: [-123, 346],\n",
       " 6446: [38, 39, -96, 100],\n",
       " 15245: [373, 381],\n",
       " 1292: [-77, 102],\n",
       " 43243: [201, 361],\n",
       " 36246: [-227, 244],\n",
       " 2713: [-133, 166],\n",
       " 19671: [-192, 248],\n",
       " 17545: [122, 124, -216, 221],\n",
       " 21818: [-277, 379],\n",
       " 2061: [173, 199],\n",
       " 20088: [91, 128, -222, 409],\n",
       " 844: [92, 93, -113, 115],\n",
       " 13388: [-34, 60],\n",
       " 13089: [235, 248, -249, 333],\n",
       " 3206: [-110, 123],\n",
       " 4704: [369, 401],\n",
       " 3205: [117, 132, -132, 135],\n",
       " 7068: [199, 219],\n",
       " 1424: [283, 286],\n",
       " 9366: [-20, 234],\n",
       " 2451: [122, 126],\n",
       " 25661: [115, 116, -291, 297],\n",
       " 13957: [-257, 297],\n",
       " 3522: [5, 98, -99, 132],\n",
       " 33894: [-121, 157],\n",
       " 24544: [253, 382],\n",
       " 17942: [-176, 177],\n",
       " 604: [348, 362],\n",
       " 269: [-236, 247],\n",
       " 5278: [132, 214, -215, 222],\n",
       " 6901: [69, 87],\n",
       " 20397: [186, 205],\n",
       " 9655: [9, 157],\n",
       " 21901: [298, 315, -315, 333],\n",
       " 1460: [216, 333],\n",
       " 29362: [-45, 112],\n",
       " 20028: [-102, 113],\n",
       " 4511: [19, 122, -122, 251],\n",
       " 17465: [235, 276],\n",
       " 18149: [329, 339],\n",
       " 36779: [-294, 382],\n",
       " 15809: [-180, 293],\n",
       " 25686: [118, 369],\n",
       " 25456: [80, 103, -137, 163],\n",
       " 2028: [344, 368],\n",
       " 38398: [293, 404],\n",
       " 1259: [-119, 124],\n",
       " 19063: [-13, 115],\n",
       " 10354: [-201, 298],\n",
       " 7416: [181, 222],\n",
       " 20817: [-219, 276],\n",
       " 7500: [-85, 90],\n",
       " 6429: [314, 326, -401, 404],\n",
       " 21108: [-4, 11],\n",
       " 6993: [61, 62],\n",
       " 5042: [-114, 194],\n",
       " 2610: [-3, 37],\n",
       " 25668: [-140, 179],\n",
       " 23220: [-222, 310],\n",
       " 2503: [364, 375],\n",
       " 7210: [150, 187],\n",
       " 21318: [-52, 53],\n",
       " 10333: [-225, 250],\n",
       " 9899: [-66, 75],\n",
       " 22483: [-74, 114],\n",
       " 20237: [-46, 53],\n",
       " 1262: [-72, 95],\n",
       " 589: [206, 397],\n",
       " 17616: [-157, 221],\n",
       " 23108: [-44, 59],\n",
       " 2129: [-118, 227],\n",
       " 29980: [-108, 123],\n",
       " 29302: [-102, 157],\n",
       " 7356: [95, 102],\n",
       " 4099: [157, 184, -335, 345],\n",
       " 16291: [-92, 223],\n",
       " 17743: [-225, 242],\n",
       " 16907: [159, 180, -233, 349],\n",
       " 10503: [360, 377],\n",
       " 16502: [-24, 30],\n",
       " 13638: [339, 376],\n",
       " 6591: [-273, 313],\n",
       " 6218: [-16, 158],\n",
       " 698: [166, 174, -177, 207],\n",
       " 31301: [138, 369],\n",
       " 23107: [-102, 164],\n",
       " 18130: [-128, 156],\n",
       " 3379: [293, 343, -343, 395],\n",
       " 26041: [-368, 397],\n",
       " 34448: [-3, 90],\n",
       " 6086: [327, 335, -345, 346],\n",
       " 9814: [363, 367],\n",
       " 20941: [99, 251],\n",
       " 31195: [-46, 62],\n",
       " 34059: [-44, 132],\n",
       " 16874: [109, 349],\n",
       " 5074: [209, 226],\n",
       " 4797: [163, 185, -269, 276],\n",
       " 17680: [179, 277],\n",
       " 22127: [317, 321, -323, 335],\n",
       " 2349: [-158, 191],\n",
       " 34511: [176, 253],\n",
       " 372: [212, 307, -325, 382],\n",
       " 44177: [-352, 368],\n",
       " 7836: [-346, 408],\n",
       " 24076: [233, 234],\n",
       " 5946: [5, 26, -170, 178],\n",
       " 2649: [-226, 383],\n",
       " 17809: [256, 262, -320, 338],\n",
       " 40245: [381, 388],\n",
       " 5577: [361, 370],\n",
       " 27262: [-269, 296],\n",
       " 16879: [333, 339],\n",
       " 10032: [-158, 192],\n",
       " 1149: [-375, 387],\n",
       " 30944: [159, 195],\n",
       " 19769: [-296, 340],\n",
       " 34241: [-205, 244],\n",
       " 9707: [297, 328],\n",
       " 7823: [158, 164, -208, 215],\n",
       " 3607: [-203, 289],\n",
       " 627: [123, 177, -248, 326],\n",
       " 29618: [109, 110],\n",
       " 706: [236, 241, -314, 326],\n",
       " 38451: [-190, 192],\n",
       " 38214: [138, 250],\n",
       " 10541: [173, 203],\n",
       " 9871: [-87, 89],\n",
       " 32886: [-213, 279],\n",
       " 27189: [-125, 206],\n",
       " 22387: [263, 288, -288, 325],\n",
       " 5079: [213, 214],\n",
       " 8843: [161, 187, -257, 290],\n",
       " 40447: [258, 327],\n",
       " 21740: [345, 395],\n",
       " 9512: [-8, 36],\n",
       " 22046: [256, 302],\n",
       " 34830: [-114, 227],\n",
       " 9886: [-80, 118],\n",
       " 11285: [361, 368, -368, 391],\n",
       " 4724: [271, 275],\n",
       " 13780: [-157, 377],\n",
       " 15352: [279, 292, -391, 402],\n",
       " 17218: [360, 382],\n",
       " 24874: [-47, 83],\n",
       " 9954: [115, 159, -220, 233],\n",
       " 25523: [-75, 101],\n",
       " 20539: [229, 333],\n",
       " 4310: [24, 93],\n",
       " 24558: [87, 330],\n",
       " 22337: [-51, 58],\n",
       " 23965: [-2, 24],\n",
       " 13578: [207, 339],\n",
       " 19951: [-216, 294],\n",
       " 18137: [-44, 51],\n",
       " 15369: [116, 123],\n",
       " 20157: [209, 212, -220, 223],\n",
       " 890: [251, 270],\n",
       " 16914: [227, 252],\n",
       " 31426: [125, 214],\n",
       " 21726: [34, 60],\n",
       " 18843: [-290, 313],\n",
       " 22722: [74, 75, -109, 110],\n",
       " 9588: [-237, 253],\n",
       " 25401: [-270, 330],\n",
       " 16400: [177, 178, -179, 181],\n",
       " 2032: [258, 271, -279, 283],\n",
       " 24426: [10, 32, -286, 313],\n",
       " 8788: [67, 136, -262, 349],\n",
       " 9395: [166, 255],\n",
       " 17718: [-253, 364],\n",
       " 15523: [-349, 362],\n",
       " 8178: [-291, 388],\n",
       " 504: [88, 89, -95, 96],\n",
       " 21036: [-293, 346],\n",
       " 19277: [164, 250],\n",
       " 23766: [-4, 334],\n",
       " 3993: [318, 331],\n",
       " 9834: [-227, 228],\n",
       " 16840: [314, 319],\n",
       " 11494: [128, 179, -179, 195],\n",
       " 18160: [-131, 193],\n",
       " 18756: [292, 339],\n",
       " 20173: [216, 308],\n",
       " 9996: [360, 362],\n",
       " 15962: [257, 290, -298, 408],\n",
       " 2525: [27, 68],\n",
       " 16041: [-156, 208],\n",
       " 24266: [112, 131],\n",
       " 5253: [171, 186],\n",
       " 20722: [236, 248],\n",
       " 18165: [261, 290],\n",
       " 34284: [-263, 276],\n",
       " 6872: [-226, 265],\n",
       " 23757: [255, 345],\n",
       " 15129: [-27, 77],\n",
       " 5334: [260, 326],\n",
       " 10239: [349, 375],\n",
       " 4028: [361, 409],\n",
       " 34003: [-270, 363],\n",
       " 3149: [327, 328],\n",
       " 19531: [-193, 391],\n",
       " 25079: [-31, 32],\n",
       " 15162: [153, 178],\n",
       " 14308: [328, 381],\n",
       " 12093: [177, 185],\n",
       " 18856: [-9, 97],\n",
       " 22945: [-222, 229],\n",
       " 15398: [24, 173],\n",
       " 1701: [94, 200, -317, 318],\n",
       " 9101: [24, 378],\n",
       " 4523: [370, 374],\n",
       " 929: [170, 174, -179, 180],\n",
       " 5047: [301, 313],\n",
       " 23961: [236, 249, -256, 278],\n",
       " 10478: [-79, 230],\n",
       " 17109: [382, 383],\n",
       " 1128: [-75, 325],\n",
       " 2228: [138, 153, -166, 172],\n",
       " 9515: [-254, 405],\n",
       " 30825: [-27, 249],\n",
       " 9364: [179, 185],\n",
       " 3170: [115, 116],\n",
       " 548: [261, 312, -355, 369],\n",
       " 26028: [378, 396],\n",
       " 18115: [373, 388],\n",
       " 19263: [-91, 114],\n",
       " 29071: [348, 373],\n",
       " 4661: [135, 361],\n",
       " 20386: [107, 138, -138, 156],\n",
       " 18372: [-37, 38],\n",
       " 17447: [-352, 363],\n",
       " 26240: [-216, 228],\n",
       " 3499: [-80, 81],\n",
       " 24731: [-198, 233],\n",
       " 18922: [39, 223, -374, 402],\n",
       " 18141: [249, 317],\n",
       " 7659: [-53, 61],\n",
       " 9485: [103, 214],\n",
       " 9100: [90, 93, -131, 137],\n",
       " 1154: [122, 135],\n",
       " 500: [126, 229],\n",
       " 17766: [153, 250],\n",
       " 21880: [46, 52, -53, 96],\n",
       " 33694: [-235, 249],\n",
       " 14410: [248, 250],\n",
       " 3138: [88, 96, -142, 187],\n",
       " 3047: [-41, 65],\n",
       " 8964: [-99, 229],\n",
       " 23628: [-253, 277],\n",
       " 1954: [20, 27, -27, 94],\n",
       " 9151: [-96, 339],\n",
       " 4482: [222, 326],\n",
       " 27698: [101, 122, -193, 215],\n",
       " 3538: [102, 122, -122, 130],\n",
       " 25488: [174, 348],\n",
       " 24211: [-167, 171],\n",
       " 22596: [255, 368],\n",
       " 12487: [134, 241],\n",
       " 1040: [313, 319],\n",
       " 2157: [167, 219],\n",
       " 22976: [-52, 118],\n",
       " 587: [207, 382],\n",
       " 20460: [126, 150, -151, 257],\n",
       " 4154: [394, 395],\n",
       " 5298: [-116, 214],\n",
       " 1085: [258, 277, -277, 278],\n",
       " 19274: [-104, 109],\n",
       " 10146: [213, 214],\n",
       " 14111: [212, 214],\n",
       " 34811: [255, 286],\n",
       " 1165: [-154, 180],\n",
       " 18540: [-254, 255],\n",
       " 21158: [-257, 340],\n",
       " 2761: [276, 290, -290, 327],\n",
       " 30417: [-28, 31],\n",
       " 26017: [158, 220],\n",
       " 965: [336, 337, -373, 375],\n",
       " 26209: [-132, 219],\n",
       " 5527: [-96, 406],\n",
       " 21262: [-199, 207],\n",
       " 6648: [228, 230, -337, 395],\n",
       " 20074: [-96, 102],\n",
       " 12525: [180, 185, -263, 275],\n",
       " 30650: [-178, 187],\n",
       " 24570: [177, 212],\n",
       " 726: [-4, 10, 363, 381],\n",
       " 14240: [247, 248, -294, 304],\n",
       " 19432: [-171, 187],\n",
       " 25789: [227, 255, -276, 303],\n",
       " 39933: [116, 364],\n",
       " 23391: [-293, 296],\n",
       " 6474: [-40, 65],\n",
       " 18228: [-136, 165],\n",
       " 23037: [-59, 60],\n",
       " 4662: [89, 93],\n",
       " 29186: [-248, 377],\n",
       " 14438: [205, 325],\n",
       " 4208: [350, 354],\n",
       " 4254: [-61, 87],\n",
       " 24934: [287, 382],\n",
       " 23872: [-291, 312],\n",
       " 1931: [12, 244, -244, 256],\n",
       " 18309: [193, 209, -214, 215],\n",
       " 39497: [-221, 249],\n",
       " 19256: [324, 374],\n",
       " 22610: [209, 250],\n",
       " 1289: [-23, 38],\n",
       " 3431: [341, 347, -349, 367],\n",
       " 2261: [-217, 228],\n",
       " 24100: [-108, 138],\n",
       " 5405: [-361, 366],\n",
       " 8230: [192, 198],\n",
       " 18938: [-229, 240],\n",
       " 11774: [180, 201],\n",
       " 24192: [359, 362],\n",
       " 34031: [292, 347, -347, 381],\n",
       " 14662: [-75, 87],\n",
       " 20151: [67, 229],\n",
       " 2424: [-82, 108],\n",
       " 29664: [38, 55],\n",
       " 33462: [247, 250, -266, 269],\n",
       " 38119: [-182, 207],\n",
       " 19149: [296, 307, -360, 364],\n",
       " 10680: [353, 366],\n",
       " 22942: [-359, 367],\n",
       " 25972: [226, 375],\n",
       " 12556: [-158, 187],\n",
       " 30776: [286, 361, -377, 395],\n",
       " 22506: [-158, 222],\n",
       " 26425: [278, 311],\n",
       " 27843: [-118, 132],\n",
       " 12834: [-198, 201],\n",
       " 3992: [348, 390],\n",
       " 2954: [-241, 248],\n",
       " 26044: [-252, 409],\n",
       " 13480: [30, 53, -103, 214],\n",
       " 12949: [258, 270],\n",
       " 10769: [325, 333, -341, 347],\n",
       " 4776: [277, 327],\n",
       " 2008: [-164, 180],\n",
       " 974: [-285, 310],\n",
       " 2435: [256, 265, -265, 286],\n",
       " 12787: [347, 393],\n",
       " 16852: [-105, 109],\n",
       " 2364: [47, 53],\n",
       " 30416: [18, 247],\n",
       " 32432: [321, 387],\n",
       " 492: [97, 193, -263, 264],\n",
       " 12554: [262, 286],\n",
       " 7799: [-208, 220],\n",
       " 9166: [226, 229, -235, 249],\n",
       " 1961: [-2, 97],\n",
       " 17357: [-198, 205],\n",
       " 24136: [134, 208],\n",
       " 9962: [-61, 67],\n",
       " 33966: [-123, 251],\n",
       " 12249: [-86, 88],\n",
       " 26021: [-363, 365],\n",
       " 8943: [24, 31, -123, 223],\n",
       " 162: [171, 176, -256, 263],\n",
       " 3927: [350, 364],\n",
       " 19761: [-69, 73],\n",
       " 19712: [111, 113],\n",
       " 10919: [79, 86],\n",
       " 21689: [-66, 319],\n",
       " 1386: [24, 38, -38, 60],\n",
       " 5075: [321, 375],\n",
       " 5954: [108, 177, -339, 355],\n",
       " 17855: [4, 17, -33, 37],\n",
       " 31440: [-103, 219],\n",
       " 9062: [235, 249],\n",
       " 5159: [-104, 107],\n",
       " 33960: [251, 353],\n",
       " 29516: [262, 293],\n",
       " 31422: [-33, 38],\n",
       " 17668: [326, 341, -345, 363],\n",
       " 14826: [136, 172],\n",
       " 10189: [269, 382],\n",
       " 21471: [37, 64, -75, 100],\n",
       " 36583: [73, 76, -213, 214],\n",
       " 30077: [-33, 139],\n",
       " 18877: [188, 191],\n",
       " 1333: [257, 346],\n",
       " 9956: [257, 343, -343, 370],\n",
       " 23707: [-236, 247],\n",
       " 10222: [328, 375],\n",
       " 19216: [-312, 347],\n",
       " 2778: [334, 382],\n",
       " 4723: [370, 396],\n",
       " 12336: [125, 153, -173, 205],\n",
       " 42636: [339, 387],\n",
       " 18226: [-208, 215],\n",
       " 5737: [-255, 332],\n",
       " 18064: [340, 346],\n",
       " 18551: [27, 240, -267, 335],\n",
       " 22231: [-122, 244],\n",
       " 22622: [-67, 80],\n",
       " 8635: [194, 208],\n",
       " 12639: [221, 268],\n",
       " 15607: [397, 405],\n",
       " 34930: [-111, 250],\n",
       " 33962: [-158, 251],\n",
       " 25942: [156, 158],\n",
       " 12017: [-359, 382],\n",
       " 7331: [388, 396],\n",
       " 2968: [-6, 41],\n",
       " 5401: [13, 74],\n",
       " 5491: [327, 376],\n",
       " 25596: [-60, 75],\n",
       " 19636: [-214, 330],\n",
       " 1963: [107, 115],\n",
       " 24177: [55, 58, -123, 207],\n",
       " 1474: [264, 268, -278, 294],\n",
       " 6774: [317, 327],\n",
       " 30984: [247, 252, -286, 295],\n",
       " 14197: [-333, 360],\n",
       " 5409: [374, 401],\n",
       " 413: [220, 221],\n",
       " 18199: [229, 230],\n",
       " 19615: [394, 403],\n",
       " 17342: [-62, 215],\n",
       " 15371: [334, 370],\n",
       " 2577: [-70, 72],\n",
       " 9023: [181, 206],\n",
       " 21042: [-174, 177],\n",
       " 9138: [163, 184],\n",
       " 36791: [-61, 95],\n",
       " 1379: [60, 61],\n",
       " 18919: [-370, 375],\n",
       " 444: [39, 41],\n",
       " 27429: [369, 375],\n",
       " 12573: [-123, 210],\n",
       " 7661: [82, 93],\n",
       " 26581: [26, 38, -45, 53],\n",
       " 22399: [-178, 186],\n",
       " 24665: [247, 270, -292, 347],\n",
       " 30937: [67, 394],\n",
       " 11999: [198, 207, -210, 212],\n",
       " 349: [99, 252],\n",
       " 3261: [290, 393],\n",
       " 2719: [67, 137],\n",
       " 28838: [254, 312],\n",
       " 4267: [345, 368],\n",
       " 20115: [203, 388],\n",
       " 4282: [34, 363],\n",
       " 25435: [-45, 46],\n",
       " 4539: [165, 193],\n",
       " 4837: [-63, 126],\n",
       " 22109: [18, 90, -90, 165],\n",
       " 4024: [-5, 13],\n",
       " 23616: [-172, 179],\n",
       " 24926: [360, 362],\n",
       " 17671: [23, 25],\n",
       " 9228: [268, 328],\n",
       " 39675: [-177, 178],\n",
       " 14844: [291, 329],\n",
       " 5983: [117, 119],\n",
       " 13262: [317, 324],\n",
       " 27358: [10, 12],\n",
       " 20646: [194, 200],\n",
       " 451: [270, 296],\n",
       " 26324: [206, 233],\n",
       " 38496: [103, 163],\n",
       " 17836: [128, 136],\n",
       " 18477: [234, 251],\n",
       " 25986: [-210, 223],\n",
       " 21952: [182, 383],\n",
       " 29901: [-103, 207],\n",
       " 34099: [-178, 179],\n",
       " 18999: [9, 17],\n",
       " 26817: [-86, 97],\n",
       " 2126: [155, 194],\n",
       " 23438: [254, 347],\n",
       " 23199: [-118, 292],\n",
       " 6618: [-44, 54],\n",
       " 9413: [310, 338],\n",
       " 33808: [-154, 166],\n",
       " 10205: [360, 368],\n",
       " 8541: [148, 209, -209, 340],\n",
       " 27226: [179, 203],\n",
       " 18093: [263, 296],\n",
       " 32137: [278, 330],\n",
       " 417: [-367, 377],\n",
       " 3238: [76, 77, -83, 86],\n",
       " 221: [-235, 250],\n",
       " 34443: [3, 95],\n",
       " 21851: [-257, 276],\n",
       " 22552: [89, 92, -180, 183],\n",
       " 28673: [-286, 289],\n",
       " 21822: [-402, 403],\n",
       " 21693: [30, 101],\n",
       " 7533: [353, 354],\n",
       " 582: [-3, 33],\n",
       " 11400: [331, 333],\n",
       " 3401: [-220, 397],\n",
       " 1622: [39, 103],\n",
       " 15284: [-317, 333],\n",
       " 4505: [-263, 312],\n",
       " 12885: [-210, 214],\n",
       " 19501: [-103, 212],\n",
       " 1546: [-276, 313],\n",
       " 8361: [-360, 365],\n",
       " 29331: [235, 344],\n",
       " 41181: [172, 180, -268, 291],\n",
       " 20666: [-17, 18],\n",
       " 4334: [46, 79, -96, 137],\n",
       " 3430: [261, 262, -326, 327],\n",
       " 10687: [153, 158],\n",
       " 8876: [177, 178],\n",
       " 30034: [-52, 131],\n",
       " 32037: [388, 397],\n",
       " 35892: [-333, 339],\n",
       " 19092: [-235, 243],\n",
       " 17960: [333, 345],\n",
       " 4885: [-27, 250],\n",
       " 25407: [-217, 254],\n",
       " 27906: [-270, 408],\n",
       " 14447: [90, 101, -339, 353],\n",
       " 19762: [256, 366],\n",
       " 1960: [138, 170],\n",
       " 9481: [-290, 314],\n",
       " 4098: [46, 374],\n",
       " 1296: [-311, 327],\n",
       " 8609: [27, 122],\n",
       " 1779: [53, 195, -195, 212],\n",
       " 21589: [261, 310],\n",
       " 16821: [-241, 334],\n",
       " 5367: [-107, 108],\n",
       " 32808: [376, 409],\n",
       " 11723: [-285, 355],\n",
       " 13985: [223, 405],\n",
       " 27048: [0, 85],\n",
       " 3288: [-69, 212],\n",
       " 13138: [265, 272],\n",
       " 13240: [-178, 221],\n",
       " 29547: [235, 245],\n",
       " 14987: [256, 320],\n",
       " 38358: [91, 117],\n",
       " 34901: [122, 217],\n",
       " 23704: [-233, 279],\n",
       " 11990: [-45, 55],\n",
       " 20472: [103, 109, -109, 116],\n",
       " 12472: [83, 93],\n",
       " 35457: [-191, 214],\n",
       " 489: [82, 102, -102, 129],\n",
       " 35372: [360, 375],\n",
       " 17500: [331, 341],\n",
       " 4736: [345, 361],\n",
       " 14113: [-234, 250],\n",
       " 8803: [-227, 233],\n",
       " 8044: [351, 358, -363, 371],\n",
       " 12818: [124, 131],\n",
       " 18407: [-286, 291],\n",
       " 21089: [-27, 257],\n",
       " 9916: [-2, 17],\n",
       " 31517: [360, 369],\n",
       " 2677: [3, 10, -53, 54],\n",
       " 8725: [163, 178, -191, 214],\n",
       " 8689: [-263, 298],\n",
       " 9362: [213, 296],\n",
       " 12747: [185, 318],\n",
       " 6798: [191, 194],\n",
       " 19195: [-285, 390],\n",
       " 3375: [236, 251],\n",
       " 7993: [216, 347],\n",
       " 38793: [99, 251],\n",
       " 3013: [160, 167],\n",
       " 5604: [230, 261, -261, 263],\n",
       " 17251: [-236, 278],\n",
       " 34334: [150, 284],\n",
       " 23347: [133, 210],\n",
       " 34240: [-304, 335],\n",
       " 8083: [370, 404],\n",
       " 838: [60, 77, -77, 101],\n",
       " 3987: [210, 222],\n",
       " 8657: [380, 395, -395, 405],\n",
       " 13663: [-178, 179],\n",
       " 2631: [255, 401],\n",
       " 20262: [278, 283],\n",
       " 39989: [255, 350, -350, 390],\n",
       " 27214: [75, 236],\n",
       " 7488: [-41, 54],\n",
       " 4756: [370, 375],\n",
       " 1846: [232, 235, -256, 269],\n",
       " 25475: [-19, 89],\n",
       " 7: [248, 251, -262, 269],\n",
       " 8792: [-41, 229],\n",
       " 19312: [312, 334],\n",
       " 15140: [-3, 41],\n",
       " 27970: [271, 279],\n",
       " 16952: [-38, 100],\n",
       " 46358: [276, 286],\n",
       " 16681: [-41, 101],\n",
       " 8975: [225, 255],\n",
       " 24548: [103, 180],\n",
       " 38196: [387, 409],\n",
       " 42782: [193, 208],\n",
       " 21539: [-95, 225],\n",
       " 34610: [269, 272],\n",
       " 21102: [-138, 253],\n",
       " 20399: [236, 247, -276, 335],\n",
       " 10267: [290, 293, -328, 331],\n",
       " 4076: [73, 184, -252, 290],\n",
       " 41100: [248, 390],\n",
       " 122: [235, 269],\n",
       " 21429: [-340, 372],\n",
       " 4082: [206, 210, -255, 271],\n",
       " 3514: [-360, 368],\n",
       " 4914: [26, 108, -125, 185],\n",
       " 6423: [61, 75],\n",
       " 1834: [-115, 123],\n",
       " 33467: [271, 287, -287, 309],\n",
       " 5590: [279, 335],\n",
       " 20959: [-271, 285],\n",
       " 21199: [-327, 368],\n",
       " 15934: [203, 264],\n",
       " 6059: [-9, 240],\n",
       " 10902: [359, 395],\n",
       " 5034: [388, 403],\n",
       " 13124: [45, 95],\n",
       " 640: [-81, 101],\n",
       " 21310: [-305, 359],\n",
       " 1371: [268, 269],\n",
       " 28627: [123, 232],\n",
       " 24503: [-41, 58],\n",
       " 9835: [-81, 94],\n",
       " 15946: [123, 251, -328, 401],\n",
       " 36633: [115, 207],\n",
       " 14138: [369, 405],\n",
       " 36087: [-73, 94],\n",
       " 32990: [229, 333],\n",
       " 20058: [53, 60, -60, 62],\n",
       " 6540: [182, 405],\n",
       " 11185: [178, 179],\n",
       " 31418: [-16, 40],\n",
       " 5169: [324, 333],\n",
       " 16901: [-23, 80],\n",
       " 12332: [-12, 82],\n",
       " 26863: [-369, 405],\n",
       " 14422: [368, 408],\n",
       " 3848: [90, 93],\n",
       " 7145: [213, 222],\n",
       " 23825: [83, 118, -231, 404],\n",
       " 6069: [248, 259],\n",
       " 3546: [363, 364],\n",
       " 13023: [41, 223, -254, 256],\n",
       " 24037: [169, 251],\n",
       " 1193: [345, 355],\n",
       " 5218: [206, 319],\n",
       " 18024: [340, 350],\n",
       " 24207: [-256, 272],\n",
       " 17767: [265, 330],\n",
       " 7543: [-59, 66],\n",
       " 12533: [381, 387],\n",
       " ...}"
      ]
     },
     "execution_count": 37,
     "metadata": {},
     "output_type": "execute_result"
    }
   ],
   "source": [
    "gp_dict"
   ]
  },
  {
   "cell_type": "code",
   "execution_count": 16,
   "metadata": {},
   "outputs": [
    {
     "data": {
      "text/plain": [
       "(12597, 13049, 4253)"
      ]
     },
     "execution_count": 16,
     "metadata": {},
     "output_type": "execute_result"
    }
   ],
   "source": [
    "len(gp_0), len(gp_1), len(gp_01)"
   ]
  },
  {
   "cell_type": "code",
   "execution_count": 17,
   "metadata": {},
   "outputs": [
    {
     "data": {
      "text/plain": [
       "(1630, 4285, 1400, 4325)"
      ]
     },
     "execution_count": 17,
     "metadata": {},
     "output_type": "execute_result"
    }
   ],
   "source": [
    "len(gp_0_test), len(gp_1_test), len(gp_01_test), len(gp_nan_test)"
   ]
  },
  {
   "cell_type": "code",
   "execution_count": 18,
   "metadata": {},
   "outputs": [
    {
     "data": {
      "text/plain": [
       "498687"
      ]
     },
     "execution_count": 18,
     "metadata": {},
     "output_type": "execute_result"
    }
   ],
   "source": [
    "len(df_gd_test[df_gd_test.loc[:,'outcome'].isnull()])"
   ]
  },
  {
   "cell_type": "code",
   "execution_count": 19,
   "metadata": {
    "collapsed": true
   },
   "outputs": [],
   "source": [
    "df_gd_test.loc.__setitem__((df_gd_test.loc[:,'group_1'].isin(gp_0_test), ('outcome')), 0)"
   ]
  },
  {
   "cell_type": "code",
   "execution_count": 20,
   "metadata": {},
   "outputs": [
    {
     "data": {
      "text/plain": [
       "302582"
      ]
     },
     "execution_count": 20,
     "metadata": {},
     "output_type": "execute_result"
    }
   ],
   "source": [
    "len(df_gd_test[df_gd_test.loc[:,'outcome'].isnull()])"
   ]
  },
  {
   "cell_type": "code",
   "execution_count": 21,
   "metadata": {
    "collapsed": true
   },
   "outputs": [],
   "source": [
    "df_gd_test.loc.__setitem__((df_gd_test.loc[:,'group_1'].isin(gp_1_test), ('outcome')), 1)"
   ]
  },
  {
   "cell_type": "code",
   "execution_count": 22,
   "metadata": {},
   "outputs": [
    {
     "data": {
      "text/plain": [
       "123302"
      ]
     },
     "execution_count": 22,
     "metadata": {},
     "output_type": "execute_result"
    }
   ],
   "source": [
    "len(df_gd_test[df_gd_test.loc[:,'outcome'].isnull()])"
   ]
  },
  {
   "cell_type": "code",
   "execution_count": 23,
   "metadata": {},
   "outputs": [
    {
     "name": "stdout",
     "output_type": "stream",
     "text": [
      "Wall time: 6min\n"
     ]
    }
   ],
   "source": [
    "%%time\n",
    "idx_list = df_gd_test[df_gd_test.loc[:,'group_1'].isin(gp_01_test)].loc[:,'group_1'].index\n",
    "df_gp01_test = df_gd_test[df_gd_test.loc[:,'group_1'].isin(gp_01_test)]\n",
    "\n",
    "for idx in idx_list:\n",
    "    if len(gp_dict[df_gp01_test.loc[:,'group_1'].loc[idx]])==4:\n",
    "        if gp_dict[df_gp01_test.loc[:,'group_1'].loc[idx]][0] < 0 :\n",
    "            if (abs(gp_dict[df_gp01_test.loc[:,'group_1'].loc[idx]][0]) > df_gp01_test.loc[:,'days'].loc[idx]) or \\\n",
    "                abs(gp_dict[df_gp01_test.loc[:,'group_1'].loc[idx]][0]) < df_gp01_test.loc[:,'days'].loc[idx]:\n",
    "                df_gd_test.loc.__setitem__((idx, ('outcome')), 0)\n",
    "            elif (abs(gp_dict[df_gp01_test.loc[:,'group_1'].loc[idx]][0]) < \\\n",
    "                  df_gp01_test.loc[:,'days'].loc[idx] < \\\n",
    "                  abs(gp_dict[df_gp01_test.loc[:,'group_1'].loc[idx]][1])):\n",
    "                df_gd_test.loc.__setitem__((idx, ('outcome')), \n",
    "                                           (df_gp01_test.loc[:,'days'].loc[idx] - abs(gp_dict[df_gp01_test.loc[:,'group_1'].loc[idx]][0])) \\\n",
    "                                           / (abs(gp_dict[df_gp01_test.loc[:,'group_1'].loc[idx]][1]) - abs(gp_dict[df_gp01_test.loc[:,'group_1'].loc[idx]][0])))\n",
    "            elif (abs(gp_dict[df_gp01_test.loc[:,'group_1'].loc[idx]][2]) < \\\n",
    "                  df_gp01_test.loc[:,'days'].loc[idx] < \\\n",
    "                  abs(gp_dict[df_gp01_test.loc[:,'group_1'].loc[idx]][3])):\n",
    "                abs(gp_dict[df_gp01_test.loc[:,'group_1'].loc[idx]][1])):\n",
    "                df_gd_test.loc.__setitem__((idx, ('outcome')), \n",
    "                                           (abs(gp_dict[df_gp01_test.loc[:,'group_1'].loc[idx]][3]) - df_gp01_test.loc[:,'days'].loc[idx]) \\\n",
    "                                           / (abs(gp_dict[df_gp01_test.loc[:,'group_1'].loc[idx]][3]) - abs(gp_dict[df_gp01_test.loc[:,'group_1'].loc[idx]][2])))\n",
    "            else : \n",
    "                df_gd_test.loc.__setitem__((idx, ('outcome')), 1)\n",
    "        else :\n",
    "            if (abs(gp_dict[df_gp01_test.loc[:,'group_1'].loc[idx]][0]) > df_gp01_test.loc[:,'days'].loc[idx]) or \\\n",
    "                abs(gp_dict[df_gp01_test.loc[:,'group_1'].loc[idx]][0]) < df_gp01_test.loc[:,'days'].loc[idx]:\n",
    "                df_gd_test.loc.__setitem__((idx, ('outcome')), 1)\n",
    "            elif (abs(gp_dict[df_gp01_test.loc[:,'group_1'].loc[idx]][0]) < \\\n",
    "                  df_gp01_test.loc[:,'days'].loc[idx] < \\\n",
    "                  abs(gp_dict[df_gp01_test.loc[:,'group_1'].loc[idx]][1])):\n",
    "                df_gd_test.loc.__setitem__((idx, ('outcome')), \n",
    "                                           (abs(gp_dict[df_gp01_test.loc[:,'group_1'].loc[idx]][1]) - df_gp01_test.loc[:,'days'].loc[idx]) \\\n",
    "                                           / (abs(gp_dict[df_gp01_test.loc[:,'group_1'].loc[idx]][1]) - abs(gp_dict[df_gp01_test.loc[:,'group_1'].loc[idx]][0])))\n",
    "            elif (abs(gp_dict[df_gp01_test.loc[:,'group_1'].loc[idx]][2]) < \\\n",
    "                  df_gp01_test.loc[:,'days'].loc[idx] < \\\n",
    "                  abs(gp_dict[df_gp01_test.loc[:,'group_1'].loc[idx]][3])):\n",
    "                abs(gp_dict[df_gp01_test.loc[:,'group_1'].loc[idx]][1])):\n",
    "                df_gd_test.loc.__setitem__((idx, ('outcome')), \n",
    "                                           (df_gp01_test.loc[:,'days'].loc[idx] - abs(gp_dict[df_gp01_test.loc[:,'group_1'].loc[idx]][2])) \\\n",
    "                                           / (abs(gp_dict[df_gp01_test.loc[:,'group_1'].loc[idx]][3]) - abs(gp_dict[df_gp01_test.loc[:,'group_1'].loc[idx]][2])))\n",
    "            else : \n",
    "                df_gd_test.loc.__setitem__((idx, ('outcome')), 0)\n",
    "    else :\n",
    "        if gp_dict[df_gp01_test.loc[:,'group_1'].loc[idx]][0] < 0 :\n",
    "            if abs(gp_dict[df_gp01_test.loc[:,'group_1'].loc[idx]][0]) > df_gp01_test.loc[:,'days'].loc[idx]:\n",
    "                df_gd_test.loc.__setitem__((idx, ('outcome')), 0)\n",
    "            elif abs(gp_dict[df_gp01_test.loc[:,'group_1'].loc[idx]][1]) < df_gp01_test.loc[:,'days'].loc[idx]: \n",
    "                df_gd_test.loc.__setitem__((idx, ('outcome')), 1)\n",
    "            else :\n",
    "                df_gd_test.loc.__setitem__((idx, ('outcome')), \\\n",
    "                                           (df_gp01_test.loc[:,'days'].loc[idx] - abs(gp_dict[df_gp01_test.loc[:,'group_1'].loc[idx]][1])) \\\n",
    "                                           / (abs(gp_dict[df_gp01_test.loc[:,'group_1'].loc[idx]][1]) - abs(gp_dict[df_gp01_test.loc[:,'group_1'].loc[idx]][0])))\n",
    "        else :\n",
    "            if abs(gp_dict[df_gp01_test.loc[:,'group_1'].loc[idx]][0]) > df_gp01_test.loc[:,'days'].loc[idx]:\n",
    "                df_gd_test.loc.__setitem__((idx, ('outcome')), 1)\n",
    "            elif abs(gp_dict[df_gp01_test.loc[:,'group_1'].loc[idx]][1]) < df_gp01_test.loc[:,'days'].loc[idx]: \n",
    "                df_gd_test.loc.__setitem__((idx, ('outcome')), 0)\n",
    "            else:\n",
    "                df_gd_test.loc.__setitem__((idx, ('outcome')), \\\n",
    "                                           (abs(gp_dict[df_gp01_test.loc[:,'group_1'].loc[idx]][1]) - df_gp01_test.loc[:,'days'].loc[idx]) \\\n",
    "                                           / (abs(gp_dict[df_gp01_test.loc[:,'group_1'].loc[idx]][1]) - abs(gp_dict[df_gp01_test.loc[:,'group_1'].loc[idx]][0])))      \n",
    "\n",
    "                "
   ]
  },
  {
   "cell_type": "code",
   "execution_count": 24,
   "metadata": {},
   "outputs": [
    {
     "data": {
      "text/plain": [
       "69073"
      ]
     },
     "execution_count": 24,
     "metadata": {},
     "output_type": "execute_result"
    }
   ],
   "source": [
    "len(df_gd_test[df_gd_test.loc[:,'outcome'].isnull()])"
   ]
  },
  {
   "cell_type": "code",
   "execution_count": 25,
   "metadata": {},
   "outputs": [
    {
     "data": {
      "image/png": "[encoded data removed]",
      "text/plain": [
       "<matplotlib.figure.Figure at 0x25ba22542b0>"
      ]
     },
     "metadata": {},
     "output_type": "display_data"
    }
   ],
   "source": [
    "plt.figure(figsize=(25,3))\n",
    "plt.scatter(df_gd[df_gd.loc[:,'group_1']==gp_01[0]]['days'], df_gd[df_gd.loc[:,'group_1']==gp_01[0]].outcome, alpha = 0.25) \n",
    "plt.ylim(-0.1,1.1)\n",
    "plt.show()"
   ]
  },
  {
   "cell_type": "code",
   "execution_count": 97,
   "metadata": {},
   "outputs": [
    {
     "data": {
      "image/png": "[encoded data removed]",
      "text/plain": [
       "<matplotlib.figure.Figure at 0x23cd0e96518>"
      ]
     },
     "metadata": {},
     "output_type": "display_data"
    }
   ],
   "source": [
    "plt.figure(figsize=(25,3))\n",
    "plt.scatter(df_gd[df_gd.loc[:,'group_1']==gp_01[1]]['days'], df_gd[df_gd.loc[:,'group_1']==gp_01[1]].outcome, alpha = 0.25) \n",
    "plt.ylim(-0.1,1.1)\n",
    "plt.show()"
   ]
  },
  {
   "cell_type": "markdown",
   "metadata": {},
   "source": [
    "# EDA"
   ]
  },
  {
   "cell_type": "code",
   "execution_count": null,
   "metadata": {
    "collapsed": true
   },
   "outputs": [],
   "source": [
    "for d in ['date_x', 'date_y']:\n",
    "    print('Start of ' + d + ': ' + str(df_merge[d].min().date()))\n",
    "    print('  End of ' + d + ': ' + str(df_merge[d].max().date()))\n",
    "    print('Range of ' + d + ': ' + str(df_merge[d].max() - df_merge[d].min()) + '\\n')"
   ]
  },
  {
   "cell_type": "code",
   "execution_count": null,
   "metadata": {
    "collapsed": true
   },
   "outputs": [],
   "source": [
    "df_merge.describe()"
   ]
  },
  {
   "cell_type": "code",
   "execution_count": null,
   "metadata": {
    "collapsed": true
   },
   "outputs": [],
   "source": [
    "df_merge[['date_x', 'date_y']].describe()"
   ]
  },
  {
   "cell_type": "code",
   "execution_count": null,
   "metadata": {
    "collapsed": true
   },
   "outputs": [],
   "source": [
    "pd.DataFrame(df_merge.people_id, dtype='object').describe()"
   ]
  },
  {
   "cell_type": "code",
   "execution_count": null,
   "metadata": {
    "collapsed": true
   },
   "outputs": [],
   "source": [
    "df_merge.people_id.unique()"
   ]
  },
  {
   "cell_type": "code",
   "execution_count": null,
   "metadata": {
    "collapsed": true
   },
   "outputs": [],
   "source": [
    "# ppl 별 구매 경향\n",
    "plt.figure(figsize=(20,30))\n",
    "for i, ppl in enumerate(df_merge.people_id.unique()[:20]):\n",
    "    plt.subplot(10,2,i+1)    \n",
    "    plt.scatter(df_merge[df_merge.people_id == ppl]['Past_days'], \\\n",
    "                df_merge[df_merge.people_id == ppl].outcome, alpha = 0.25) \n",
    "    plt.ylim(-0.1,1.1)\n",
    "plt.show()"
   ]
  },
  {
   "cell_type": "code",
   "execution_count": null,
   "metadata": {
    "collapsed": true
   },
   "outputs": [],
   "source": [
    "df_merge.people_id.value_counts().head()"
   ]
  },
  {
   "cell_type": "code",
   "execution_count": null,
   "metadata": {
    "collapsed": true
   },
   "outputs": [],
   "source": [
    "# ppl 별 구매 경향 top 5\n",
    "plt.figure(figsize=(20,10))\n",
    "for i, ppl in enumerate([294918, 370270, 105739, 54699, 64887]):\n",
    "    plt.subplot(5,1,i+1)    \n",
    "    plt.scatter(df_merge[df_merge.people_id == ppl]['Past_days'], \\\n",
    "                df_merge[df_merge.people_id == ppl].outcome, alpha = 0.25) \n",
    "    plt.ylim(-0.1,1.1)\n",
    "plt.show()"
   ]
  },
  {
   "cell_type": "code",
   "execution_count": null,
   "metadata": {
    "collapsed": true
   },
   "outputs": [],
   "source": [
    "# group 별 구매 경향\n",
    "plt.figure(figsize=(20,30))\n",
    "for i, group in enumerate(df_merge.group_1.unique()[:20]):\n",
    "    plt.subplot(10,2,i+1)    \n",
    "    plt.scatter(df_merge[df_merge.group_1 == group]['Past_days'], \\\n",
    "                df_merge[df_merge.group_1 == group].outcome, alpha = 0.25) \n",
    "    plt.ylim(-0.1,1.1)\n",
    "plt.show()"
   ]
  },
  {
   "cell_type": "code",
   "execution_count": null,
   "metadata": {
    "collapsed": true
   },
   "outputs": [],
   "source": [
    "# group 별 구매 경향 top 5\n",
    "\n",
    "plt.figure(figsize=(20,10))\n",
    "for i, group in enumerate([17304, 667, 8386, 9280,450]):\n",
    "    plt.subplot(5,1,i+1)    \n",
    "    plt.scatter(df_merge[df_merge.group_1 == group]['Past_days'], \\\n",
    "                df_merge[df_merge.group_1 == group].outcome, alpha = 0.25) \n",
    "    plt.ylim(-0.1,1.1)\n",
    "plt.show()"
   ]
  },
  {
   "cell_type": "code",
   "execution_count": null,
   "metadata": {
    "collapsed": true
   },
   "outputs": [],
   "source": [
    "sns.factorplot(x=\"week_x\", y=\"outcome\", row=\"activity_category\", data=df_merge,\n",
    "               size=2, aspect=3, kind=\"point\")\n",
    "plt.show()"
   ]
  },
  {
   "cell_type": "code",
   "execution_count": null,
   "metadata": {
    "collapsed": true
   },
   "outputs": [],
   "source": [
    "sns.factorplot(x=\"activity_category\", y=\"outcome\", row=\"week_x\", data=df_merge,\n",
    "               size=2, aspect=3, kind=\"point\")\n",
    "plt.show()"
   ]
  },
  {
   "cell_type": "markdown",
   "metadata": {},
   "source": [
    "#### sample"
   ]
  },
  {
   "cell_type": "code",
   "execution_count": null,
   "metadata": {
    "collapsed": true
   },
   "outputs": [],
   "source": [
    "df_sample = df_merge.sample(frac = 0.1, random_state=0).copy()\n",
    "df_sample = add_bool_sum(df_sample)"
   ]
  },
  {
   "cell_type": "code",
   "execution_count": null,
   "metadata": {
    "collapsed": true
   },
   "outputs": [],
   "source": [
    "df_sample2 = df_merge.sample(frac = 0.1, random_state=1).copy()\n",
    "df_sample2 = add_bool_sum(df_sample2)"
   ]
  },
  {
   "cell_type": "code",
   "execution_count": null,
   "metadata": {
    "collapsed": true
   },
   "outputs": [],
   "source": [
    "df_sample.groupby(['activity_id', 'activity_category']).count()"
   ]
  },
  {
   "cell_type": "code",
   "execution_count": null,
   "metadata": {
    "collapsed": true
   },
   "outputs": [],
   "source": [
    "plt.figure(figsize=(20,4))\n",
    "sns.kdeplot(df_sample[df_sample.outcome==0]['Past_days'])\n",
    "sns.kdeplot(df_sample[df_sample.outcome==1]['Past_days'])\n",
    "plt.show()"
   ]
  },
  {
   "cell_type": "code",
   "execution_count": null,
   "metadata": {
    "collapsed": true
   },
   "outputs": [],
   "source": [
    "plt.figure(figsize=(20,4))\n",
    "sns.kdeplot(df_sample[df_sample.outcome==0]['week_x'])\n",
    "sns.kdeplot(df_sample[df_sample.outcome==1]['week_x'])\n",
    "plt.show()"
   ]
  },
  {
   "cell_type": "markdown",
   "metadata": {},
   "source": [
    "#### char_1_x ~ char_9_x"
   ]
  },
  {
   "cell_type": "code",
   "execution_count": null,
   "metadata": {
    "collapsed": true
   },
   "outputs": [],
   "source": [
    "plt.figure(figsize=(20,12))\n",
    "for i, feat in enumerate(df_sample.columns[list(df_sample).index('char_1_x'):list(df_sample).index('char_9_x')+1]):\n",
    "    plt.subplot(3,3,i+1)\n",
    "    sns.countplot(feat, hue='outcome', data=df_sample)\n",
    "plt.show()"
   ]
  },
  {
   "cell_type": "markdown",
   "metadata": {},
   "source": [
    "#### char_2_y ~ char_9_y"
   ]
  },
  {
   "cell_type": "code",
   "execution_count": null,
   "metadata": {
    "collapsed": true
   },
   "outputs": [],
   "source": [
    "sns.countplot('char_2_y', hue='outcome', data=df_sample)\n",
    "plt.show"
   ]
  },
  {
   "cell_type": "code",
   "execution_count": null,
   "metadata": {
    "collapsed": true
   },
   "outputs": [],
   "source": [
    "plt.figure(figsize=(20,12))\n",
    "for i, feat in enumerate(df_sample.columns[list(df_sample).index('char_3_y'):list(df_sample).index('char_9_y')+1]):\n",
    "    plt.subplot(3,3,i+1)\n",
    "    sns.countplot(feat, hue='outcome', data=df_sample)\n",
    "plt.show()"
   ]
  },
  {
   "cell_type": "markdown",
   "metadata": {},
   "source": [
    "#### char_10_y ~ char_37"
   ]
  },
  {
   "cell_type": "code",
   "execution_count": null,
   "metadata": {
    "collapsed": true
   },
   "outputs": [],
   "source": [
    "plt.figure(figsize=(20,30))\n",
    "for i, feat in enumerate(df_sample.columns[list(df_sample).index('char_10_y'):list(df_sample).index('char_37')+1]):\n",
    "    plt.subplot(7,4,i+1)\n",
    "    sns.countplot(feat, hue='outcome', data=df_sample)\n",
    "plt.show()"
   ]
  },
  {
   "cell_type": "code",
   "execution_count": null,
   "metadata": {
    "collapsed": true
   },
   "outputs": [],
   "source": [
    "plt.figure(figsize=(20,5))\n",
    "sns.countplot('bool_sum', hue='outcome', data=df_sample)\n",
    "plt.show()"
   ]
  },
  {
   "cell_type": "markdown",
   "metadata": {},
   "source": [
    "#### char_38"
   ]
  },
  {
   "cell_type": "code",
   "execution_count": null,
   "metadata": {
    "collapsed": true
   },
   "outputs": [],
   "source": [
    "facet = sns.FacetGrid(df_sample, hue='outcome', aspect=4)\n",
    "facet.map(sns.kdeplot, 'char_38', shade=True)\n",
    "facet.set(xlim=(0, df_sample['char_38'].max()))\n",
    "facet.add_legend()\n",
    "\n",
    "plt.show()"
   ]
  },
  {
   "cell_type": "code",
   "execution_count": null,
   "metadata": {
    "collapsed": true,
    "scrolled": true
   },
   "outputs": [],
   "source": [
    "sns.boxplot(x=\"outcome\", y=\"char_38\", data=df_sample)\n",
    "plt.show()"
   ]
  },
  {
   "cell_type": "code",
   "execution_count": null,
   "metadata": {
    "collapsed": true
   },
   "outputs": [],
   "source": [
    "del df_sample, df_sample2"
   ]
  },
  {
   "cell_type": "markdown",
   "metadata": {
    "collapsed": true
   },
   "source": [
    "# feature selection"
   ]
  },
  {
   "cell_type": "code",
   "execution_count": null,
   "metadata": {
    "collapsed": true
   },
   "outputs": [],
   "source": [
    "model1 = sm.OLS.from_formula(\"outcome ~ char_10_y + char_11 + char_12 + char_13 + char_14 + char_15 + char_16 + char_17 + char_18 + \\\n",
    "                            char_19 + char_20 + char_21 + char_22 + char_23 + char_24 + char_25 + char_26 + char_27 + char_28 + \\\n",
    "                            char_29 + char_30 + char_31 + char_32 + char_33 + char_34 + char_35 + char_36 + char_37\", data=df_merge)\n",
    "model2 = sm.OLS.from_formula(\"outcome ~ bool_sum\", data=df_merge)\n",
    "model3 = sm.OLS.from_formula(\"outcome ~ char_10_y + char_11 + char_12 + char_13 + char_14 + char_15 + char_16 + char_17 + char_18 + \\\n",
    "                            char_19 + char_20 + char_21 + char_22 + char_23 + char_24 + char_25 + char_26 + char_27 + char_28 + char_29 + \\\n",
    "                            char_30 + char_31 + char_32 + char_33 + char_34 + char_35 + char_36 + char_37 + bool_sum\", data=df_merge)\n",
    "result1 = model1.fit()\n",
    "result2 = model2.fit()\n",
    "result3 = model3.fit()\n",
    "\n",
    "sm.stats.anova_lm(result1, result2, result3)"
   ]
  },
  {
   "cell_type": "code",
   "execution_count": null,
   "metadata": {
    "collapsed": true
   },
   "outputs": [],
   "source": [
    "sm.stats.anova_lm(result1)"
   ]
  },
  {
   "cell_type": "code",
   "execution_count": null,
   "metadata": {
    "collapsed": true
   },
   "outputs": [],
   "source": [
    "sm.stats.anova_lm(result2)"
   ]
  },
  {
   "cell_type": "code",
   "execution_count": null,
   "metadata": {
    "collapsed": true
   },
   "outputs": [],
   "source": [
    "sm.stats.anova_lm(result3)"
   ]
  },
  {
   "cell_type": "code",
   "execution_count": null,
   "metadata": {
    "collapsed": true
   },
   "outputs": [],
   "source": []
  },
  {
   "cell_type": "markdown",
   "metadata": {},
   "source": [
    "# modeling"
   ]
  },
  {
   "cell_type": "markdown",
   "metadata": {},
   "source": [
    "#### fillna(0)"
   ]
  },
  {
   "cell_type": "code",
   "execution_count": 110,
   "metadata": {
    "collapsed": true
   },
   "outputs": [],
   "source": [
    "df_merge.fillna(0, inplace=True)\n",
    "df_merge_test.fillna(0, inplace=True)"
   ]
  },
  {
   "cell_type": "markdown",
   "metadata": {},
   "source": [
    "#### columns"
   ]
  },
  {
   "cell_type": "code",
   "execution_count": 111,
   "metadata": {},
   "outputs": [
    {
     "name": "stdout",
     "output_type": "stream",
     "text": [
      "['Past_days', 'activity_category', 'char_1_x', 'char_2_x', 'char_3_x', 'char_4_x', 'char_5_x', 'char_6_x', 'char_7_x', 'char_8_x', 'char_9_x', 'char_10_x', 'char_1_y', 'char_2_y', 'char_3_y', 'char_4_y', 'char_5_y', 'char_6_y', 'char_7_y', 'char_8_y', 'char_9_y', 'char_10_y', 'char_11', 'char_12', 'char_13', 'char_14', 'char_15', 'char_16', 'char_17', 'char_18', 'char_19', 'char_20', 'char_21', 'char_22', 'char_23', 'char_24', 'char_25', 'char_26', 'char_27', 'char_28', 'char_29', 'char_30', 'char_31', 'char_32', 'char_33', 'char_34', 'char_35', 'char_36', 'char_37', 'char_38']\n"
     ]
    }
   ],
   "source": [
    "a = list(df_merge)\n",
    "a.remove('date_x')\n",
    "a.remove('date_y')\n",
    "a.remove('bool_sum')\n",
    "a.remove('people_id')\n",
    "a.remove('activity_id')\n",
    "a.remove('week_x')\n",
    "a.remove('week_y')\n",
    "a.remove('days')\n",
    "a.remove('group_1')\n",
    "a.remove('outcome')\n",
    "print(a)"
   ]
  },
  {
   "cell_type": "code",
   "execution_count": null,
   "metadata": {
    "collapsed": true
   },
   "outputs": [],
   "source": [
    "df_merge2 = one_hot_encoder(df_merge, ['activity_id', 'activity_category'])"
   ]
  },
  {
   "cell_type": "code",
   "execution_count": null,
   "metadata": {
    "collapsed": true
   },
   "outputs": [],
   "source": [
    "df_merge_test2 = one_hot_encoder(df_merge_test, ['activity_id', 'activity_category'])"
   ]
  },
  {
   "cell_type": "code",
   "execution_count": null,
   "metadata": {
    "collapsed": true
   },
   "outputs": [],
   "source": [
    "a2 = list(df_merge2)\n",
    "a2.remove('date_x')\n",
    "a2.remove('date_y')\n",
    "a2.remove('bool_sum')\n",
    "a2.remove('people_id')\n",
    "a2.remove('week_x')\n",
    "a2.remove('week_y')\n",
    "a2.remove('days')\n",
    "a2.remove('group_1')\n",
    "a2.remove('outcome')\n",
    "print(a2)"
   ]
  },
  {
   "cell_type": "markdown",
   "metadata": {},
   "source": [
    "## 로지스틱 회귀분석"
   ]
  },
  {
   "cell_type": "code",
   "execution_count": null,
   "metadata": {
    "collapsed": true
   },
   "outputs": [],
   "source": [
    "logit_mod = sm.Logit.from_formula(\"outcome ~ Past_days + char_38 + bool_sum\", data=df_merge)\n",
    "logit_res = logit_mod.fit(disp=0)\n",
    "print(logit_res.summary())"
   ]
  },
  {
   "cell_type": "markdown",
   "metadata": {},
   "source": [
    "## 나이브 베이즈"
   ]
  },
  {
   "cell_type": "markdown",
   "metadata": {},
   "source": [
    "+ 가우시안 정규 분포 나이브 베이즈 모형"
   ]
  },
  {
   "cell_type": "code",
   "execution_count": null,
   "metadata": {
    "collapsed": true
   },
   "outputs": [],
   "source": [
    "%%time\n",
    "clf_norm = GaussianNB().fit(df_merge[a], df_merge.outcome)"
   ]
  },
  {
   "cell_type": "code",
   "execution_count": null,
   "metadata": {
    "collapsed": true
   },
   "outputs": [],
   "source": [
    "%%time\n",
    "cross_val_score(clf_norm, df_merge[a], df_merge.outcome, scoring=\"roc_auc\", cv=10).mean()"
   ]
  },
  {
   "cell_type": "markdown",
   "metadata": {},
   "source": [
    "## 의사 결정 나무"
   ]
  },
  {
   "cell_type": "code",
   "execution_count": null,
   "metadata": {
    "collapsed": true
   },
   "outputs": [],
   "source": [
    "tree = DecisionTreeClassifier(criterion='entropy', max_depth=10).fit(df_merge[a], df_merge.outcome)"
   ]
  },
  {
   "cell_type": "code",
   "execution_count": null,
   "metadata": {
    "collapsed": true
   },
   "outputs": [],
   "source": [
    "cross_val_score(tree, df_merge[a], df_merge.outcome, scoring=\"roc_auc\", cv=10).mean()"
   ]
  },
  {
   "cell_type": "code",
   "execution_count": null,
   "metadata": {
    "collapsed": true
   },
   "outputs": [],
   "source": [
    "draw_decision_tree(tree, a)"
   ]
  },
  {
   "cell_type": "code",
   "execution_count": null,
   "metadata": {
    "collapsed": true
   },
   "outputs": [],
   "source": [
    "# df_submission = pd.DataFrame({'activity_id' : df_test_act_id, 'outcome' : tree2.predict(df_merge_test[a])}).set_index('activity_id')\n",
    "# df_submission.to_csv(\"df_submission_tree.csv\")"
   ]
  },
  {
   "cell_type": "markdown",
   "metadata": {},
   "source": [
    "## 랜덤 포레스트"
   ]
  },
  {
   "cell_type": "markdown",
   "metadata": {},
   "source": [
    "+ RandomForestClassifier"
   ]
  },
  {
   "cell_type": "code",
   "execution_count": null,
   "metadata": {
    "collapsed": true
   },
   "outputs": [],
   "source": [
    "rfc = RandomForestClassifier(n_estimators=30, max_depth=10).fit(df_merge[a], df_merge.outcome)"
   ]
  },
  {
   "cell_type": "code",
   "execution_count": null,
   "metadata": {
    "collapsed": true
   },
   "outputs": [],
   "source": [
    "cross_val_score(rfc, df_merge[a], df_merge.outcome, scoring=\"roc_auc\", cv=10).mean()"
   ]
  },
  {
   "cell_type": "code",
   "execution_count": null,
   "metadata": {
    "collapsed": true
   },
   "outputs": [],
   "source": [
    "importance = rfc.feature_importances_\n",
    "importance = pd.DataFrame(importance, index=df_merge.loc[:,a].columns, \n",
    "                          columns=[\"Importance\"])\n",
    "\n",
    "importance[\"Std\"] = np.std([tree.feature_importances_ for tree in rfc.estimators_], axis=0)\n",
    "\n",
    "x = range(importance.shape[0])\n",
    "y = importance.iloc[:, 0]\n",
    "yerr = importance.iloc[:, 1]\n",
    "\n",
    "plt.bar(x, y)\n",
    "\n",
    "plt.show()"
   ]
  },
  {
   "cell_type": "code",
   "execution_count": null,
   "metadata": {
    "collapsed": true
   },
   "outputs": [],
   "source": [
    "importance.sort_values(by='Importance', ascending=False)"
   ]
  },
  {
   "cell_type": "code",
   "execution_count": null,
   "metadata": {
    "collapsed": true
   },
   "outputs": [],
   "source": [
    "# # rfc = RandomForestClassifier(n_estimators=30).fit(df_merge[a], df_merge.outcome) 0.88\n",
    "# df_submission = pd.DataFrame({'activity_id' : df_test_act_id, 'outcome' : rfc.predict(df_merge_test[a])}).set_index('activity_id')\n",
    "# df_submission.to_csv(\"df_submission_rfc.csv\")"
   ]
  },
  {
   "cell_type": "markdown",
   "metadata": {},
   "source": [
    "+ ExtraTreesClassifier"
   ]
  },
  {
   "cell_type": "code",
   "execution_count": null,
   "metadata": {
    "collapsed": true
   },
   "outputs": [],
   "source": [
    "%%time\n",
    "efc = ExtraTreesClassifier(n_estimators=30, max_depth=10).fit(df_merge[a], df_merge.outcome)"
   ]
  },
  {
   "cell_type": "code",
   "execution_count": null,
   "metadata": {
    "collapsed": true
   },
   "outputs": [],
   "source": [
    "%%time\n",
    "cross_val_score(efc, df_merge[a], df_merge.outcome, scoring=\"roc_auc\", cv=10).mean()"
   ]
  },
  {
   "cell_type": "code",
   "execution_count": null,
   "metadata": {
    "collapsed": true
   },
   "outputs": [],
   "source": [
    "# df_submission = pd.DataFrame({'activity_id' : df_test_act_id, 'outcome' : efc.predict(df_merge_test[a])}).set_index('activity_id')\n",
    "# df_submission.to_csv(\"df_submission_efc.csv\")"
   ]
  },
  {
   "cell_type": "markdown",
   "metadata": {},
   "source": [
    "# xgboost"
   ]
  },
  {
   "cell_type": "code",
   "execution_count": null,
   "metadata": {
    "collapsed": true
   },
   "outputs": [],
   "source": [
    "%%time\n",
    "xgb = xgboost.XGBClassifier(n_estimators=30, max_depth=10).fit(df_merge2[a2], df_merge2.outcome)"
   ]
  },
  {
   "cell_type": "code",
   "execution_count": null,
   "metadata": {
    "collapsed": true
   },
   "outputs": [],
   "source": [
    "%%time\n",
    "cross_val_score(xgb, df_merge[a2], df_merge.outcome, scoring=\"roc_auc\", cv=10).mean()"
   ]
  },
  {
   "cell_type": "code",
   "execution_count": null,
   "metadata": {
    "collapsed": true
   },
   "outputs": [],
   "source": [
    "# df_submission = pd.DataFrame({'activity_id' : df_test_act_id, 'outcome' : xgb.predict(df_merge_test2[a2])}).set_index('activity_id')\n",
    "# df_submission.to_csv(\"df_submission_xgb2.csv\")"
   ]
  },
  {
   "cell_type": "markdown",
   "metadata": {},
   "source": [
    "# 퍼셉트론"
   ]
  },
  {
   "cell_type": "code",
   "execution_count": null,
   "metadata": {
    "collapsed": true
   },
   "outputs": [],
   "source": []
  },
  {
   "cell_type": "code",
   "execution_count": null,
   "metadata": {
    "collapsed": true
   },
   "outputs": [],
   "source": []
  },
  {
   "cell_type": "markdown",
   "metadata": {},
   "source": [
    "# 서포트 벡터 머신"
   ]
  },
  {
   "cell_type": "code",
   "execution_count": null,
   "metadata": {
    "collapsed": true
   },
   "outputs": [],
   "source": []
  },
  {
   "cell_type": "code",
   "execution_count": null,
   "metadata": {
    "collapsed": true
   },
   "outputs": [],
   "source": []
  },
  {
   "cell_type": "code",
   "execution_count": null,
   "metadata": {
    "collapsed": true
   },
   "outputs": [],
   "source": []
  },
  {
   "cell_type": "markdown",
   "metadata": {
    "collapsed": true
   },
   "source": [
    "# voting"
   ]
  },
  {
   "cell_type": "code",
   "execution_count": null,
   "metadata": {
    "collapsed": true
   },
   "outputs": [],
   "source": [
    "df_submission = pd.DataFrame({'activity_id' : df_test_act_id, \n",
    "                              'outcome0' : clf_norm.predict(df_merge_test[a]),\n",
    "                              'outcome1' : tree.predict(df_merge_test[a]),\n",
    "                              'outcome2' : rfc.predict(df_merge_test[a]),\n",
    "                              'outcome3' : efc.predict(df_merge_test[a]),\n",
    "                              'outcome4' : xgb.predict(df_merge_test2[a2]),\n",
    "                             })\n",
    "# df_submission.to_csv(\"df_submission_xgb2.csv\")"
   ]
  },
  {
   "cell_type": "code",
   "execution_count": null,
   "metadata": {
    "collapsed": true
   },
   "outputs": [],
   "source": [
    "df_submission['outcome5'] = df_submission.outcome0 + df_submission.outcome1 + df_submission.outcome2 + df_submission.outcome3 + df_submission.outcome4             "
   ]
  },
  {
   "cell_type": "code",
   "execution_count": null,
   "metadata": {
    "collapsed": true
   },
   "outputs": [],
   "source": [
    "df_submission['outcome'] = df_submission['outcome5']//3"
   ]
  },
  {
   "cell_type": "code",
   "execution_count": null,
   "metadata": {
    "collapsed": true
   },
   "outputs": [],
   "source": [
    "df_submission = df_submission.loc[:,['activity_id', 'outcome']].copy()"
   ]
  },
  {
   "cell_type": "code",
   "execution_count": null,
   "metadata": {
    "collapsed": true
   },
   "outputs": [],
   "source": [
    "df_submission.set_index('activity_id',inplace=True)"
   ]
  },
  {
   "cell_type": "code",
   "execution_count": null,
   "metadata": {
    "collapsed": true
   },
   "outputs": [],
   "source": [
    "# df_submission.to_csv(\"df_submission_vote.csv\")"
   ]
  },
  {
   "cell_type": "markdown",
   "metadata": {},
   "source": [
    "# H2O"
   ]
  },
  {
   "cell_type": "code",
   "execution_count": 26,
   "metadata": {},
   "outputs": [
    {
     "name": "stdout",
     "output_type": "stream",
     "text": [
      "Checking whether there is an H2O instance running at http://localhost:54321..... not found.\n",
      "Attempting to start a local H2O server...\n",
      "; Java HotSpot(TM) 64-Bit Server VM (build 25.151-b12, mixed mode)\n",
      "  Starting server from C:\\ProgramData\\Anaconda3\\lib\\site-packages\\h2o\\backend\\bin\\h2o.jar\n",
      "  Ice root: C:\\Users\\kwon\\AppData\\Local\\Temp\\tmpxkq4phjf\n",
      "  JVM stdout: C:\\Users\\kwon\\AppData\\Local\\Temp\\tmpxkq4phjf\\h2o_kwon_started_from_python.out\n",
      "  JVM stderr: C:\\Users\\kwon\\AppData\\Local\\Temp\\tmpxkq4phjf\\h2o_kwon_started_from_python.err\n",
      "  Server is running at http://127.0.0.1:54321\n",
      "Connecting to H2O server at http://127.0.0.1:54321... successful.\n"
     ]
    },
    {
     "data": {
      "text/html": [
       "<div style=\"overflow:auto\"><table style=\"width:50%\"><tr><td>H2O cluster uptime:</td>\n",
       "<td>05 secs</td></tr>\n",
       "<tr><td>H2O cluster version:</td>\n",
       "<td>3.14.0.7</td></tr>\n",
       "<tr><td>H2O cluster version age:</td>\n",
       "<td>29 days </td></tr>\n",
       "<tr><td>H2O cluster name:</td>\n",
       "<td>H2O_from_python_kwon_prs46x</td></tr>\n",
       "<tr><td>H2O cluster total nodes:</td>\n",
       "<td>1</td></tr>\n",
       "<tr><td>H2O cluster free memory:</td>\n",
       "<td>891 Mb</td></tr>\n",
       "<tr><td>H2O cluster total cores:</td>\n",
       "<td>4</td></tr>\n",
       "<tr><td>H2O cluster allowed cores:</td>\n",
       "<td>4</td></tr>\n",
       "<tr><td>H2O cluster status:</td>\n",
       "<td>accepting new members, healthy</td></tr>\n",
       "<tr><td>H2O connection url:</td>\n",
       "<td>http://127.0.0.1:54321</td></tr>\n",
       "<tr><td>H2O connection proxy:</td>\n",
       "<td>None</td></tr>\n",
       "<tr><td>H2O internal security:</td>\n",
       "<td>False</td></tr>\n",
       "<tr><td>H2O API Extensions:</td>\n",
       "<td>Algos, AutoML, Core V3, Core V4</td></tr>\n",
       "<tr><td>Python version:</td>\n",
       "<td>3.6.2 final</td></tr></table></div>"
      ],
      "text/plain": [
       "--------------------------  -------------------------------\n",
       "H2O cluster uptime:         05 secs\n",
       "H2O cluster version:        3.14.0.7\n",
       "H2O cluster version age:    29 days\n",
       "H2O cluster name:           H2O_from_python_kwon_prs46x\n",
       "H2O cluster total nodes:    1\n",
       "H2O cluster free memory:    891 Mb\n",
       "H2O cluster total cores:    4\n",
       "H2O cluster allowed cores:  4\n",
       "H2O cluster status:         accepting new members, healthy\n",
       "H2O connection url:         http://127.0.0.1:54321\n",
       "H2O connection proxy:\n",
       "H2O internal security:      False\n",
       "H2O API Extensions:         Algos, AutoML, Core V3, Core V4\n",
       "Python version:             3.6.2 final\n",
       "--------------------------  -------------------------------"
      ]
     },
     "metadata": {},
     "output_type": "display_data"
    }
   ],
   "source": [
    "h2o.init()"
   ]
  },
  {
   "cell_type": "code",
   "execution_count": 27,
   "metadata": {},
   "outputs": [
    {
     "name": "stdout",
     "output_type": "stream",
     "text": [
      "{'people_id': 'string', 'activity_id': 'string', 'date_x': 'time', 'week_x': 'enum', 'Past_days': 'numeric', 'activity_category': 'enum', 'char_1_x': 'enum', 'char_2_x': 'enum', 'char_3_x': 'enum', 'char_4_x': 'enum', 'char_5_x': 'enum', 'char_6_x': 'enum', 'char_7_x': 'enum', 'char_8_x': 'enum', 'char_9_x': 'enum', 'char_10_x': 'string', 'outcome': 'enum', 'char_1_y': 'enum', 'group_1': 'string', 'char_2_y': 'enum', 'date_y': 'time', 'week_y': 'enum', 'char_3_y': 'enum', 'char_4_y': 'enum', 'char_5_y': 'enum', 'char_6_y': 'enum', 'char_7_y': 'enum', 'char_8_y': 'enum', 'char_9_y': 'enum', 'char_10_y': 'enum', 'char_11': 'enum', 'char_12': 'enum', 'char_13': 'enum', 'char_14': 'enum', 'char_15': 'enum', 'char_16': 'enum', 'char_17': 'enum', 'char_18': 'enum', 'char_19': 'enum', 'char_20': 'enum', 'char_21': 'enum', 'char_22': 'enum', 'char_23': 'enum', 'char_24': 'enum', 'char_25': 'enum', 'char_26': 'enum', 'char_27': 'enum', 'char_28': 'enum', 'char_29': 'enum', 'char_30': 'enum', 'char_31': 'enum', 'char_32': 'enum', 'char_33': 'enum', 'char_34': 'enum', 'char_35': 'enum', 'char_36': 'enum', 'char_37': 'enum', 'char_38': 'numeric', 'days': 'numeric', 'bool_sum': 'numeric'}\n",
      "\n",
      "{'char_1_x': ['0'], 'char_2_x': ['0'], 'char_3_x': ['0'], 'char_4_x': ['0'], 'char_5_x': ['0'], 'char_6_x': ['0'], 'char_7_x': ['0'], 'char_8_x': ['0'], 'char_9_x': ['0']}\n"
     ]
    }
   ],
   "source": [
    "coltype_dict = dict()\n",
    "ignore_list = ['people_id', 'activity_id', 'group_1', 'char_10_x']\n",
    "numeric_list = ['char_38', 'bool_sum', 'days', 'Past_days']\n",
    "date_list = ['date_x', 'date_y']\n",
    "for col in list(df_merge):\n",
    "    type_ = 'string'\n",
    "    if col in ignore_list:\n",
    "        type_ = 'string'\n",
    "    elif col in numeric_list:\n",
    "        type_ = 'numeric'\n",
    "    elif col in date_list:\n",
    "        type_ = 'time'\n",
    "    else:\n",
    "        type_ = 'enum'\n",
    "    coltype_dict[col] = type_\n",
    "print(coltype_dict)\n",
    "print()\n",
    "\n",
    "na_dict = dict()\n",
    "na_list = ['char_{}_x'.format(x) for x in range(1, 10)]\n",
    "for item in na_list:\n",
    "    na_dict[item] = ['0']\n",
    "print(na_dict)"
   ]
  },
  {
   "cell_type": "code",
   "execution_count": 28,
   "metadata": {},
   "outputs": [
    {
     "name": "stdout",
     "output_type": "stream",
     "text": [
      "Parse progress: |█████████████████████████████████████████████████████████| 100%\n",
      "Wall time: 2min 45s\n"
     ]
    }
   ],
   "source": [
    "%%time\n",
    "hf_merge1 = h2o.H2OFrame(df_merge , column_types=coltype_dict, na_strings=na_dict)"
   ]
  },
  {
   "cell_type": "code",
   "execution_count": 29,
   "metadata": {
    "collapsed": true
   },
   "outputs": [],
   "source": [
    "# del ignore_list, numeric_list, date_list"
   ]
  },
  {
   "cell_type": "code",
   "execution_count": 30,
   "metadata": {},
   "outputs": [
    {
     "name": "stdout",
     "output_type": "stream",
     "text": [
      "Wall time: 2 ms\n"
     ]
    }
   ],
   "source": [
    "%%time\n",
    "rf_v1 = H2ORandomForestEstimator(\n",
    "    model_id=\"rf_covType_v1\",\n",
    "    ntrees=100,\n",
    "    stopping_rounds=2,\n",
    "    score_each_iteration=True,\n",
    "    seed=1000000)"
   ]
  },
  {
   "cell_type": "code",
   "execution_count": 31,
   "metadata": {},
   "outputs": [
    {
     "ename": "H2OTypeError",
     "evalue": "Argument `x` should be a None | integer | string | list(string | integer) | set(integer | string), got DataFrame          days  outcome\n712174     19        1\n1612744   401        0\n1612745   401        0\n1612746   401        0\n1612750   402        0\n1612748   404        0\n1612749   404        0\n1612747   405        0\n1612751   405        0",
     "output_type": "error",
     "traceback": [
      "\u001b[1;31m---------------------------------------------------------------------------\u001b[0m",
      "\u001b[1;31mH2OTypeError\u001b[0m                              Traceback (most recent call last)",
      "\u001b[1;32m<timed eval>\u001b[0m in \u001b[0;36m<module>\u001b[1;34m()\u001b[0m\n",
      "\u001b[1;32mC:\\ProgramData\\Anaconda3\\lib\\site-packages\\h2o\\estimators\\estimator_base.py\u001b[0m in \u001b[0;36mtrain\u001b[1;34m(self, x, y, training_frame, offset_column, fold_column, weights_column, validation_frame, max_runtime_secs, ignored_columns, model_id, verbose)\u001b[0m\n\u001b[0;32m    106\u001b[0m         \u001b[0massert_is_type\u001b[0m\u001b[1;33m(\u001b[0m\u001b[0mvalidation_frame\u001b[0m\u001b[1;33m,\u001b[0m \u001b[1;32mNone\u001b[0m\u001b[1;33m,\u001b[0m \u001b[0mH2OFrame\u001b[0m\u001b[1;33m)\u001b[0m\u001b[1;33m\u001b[0m\u001b[0m\n\u001b[0;32m    107\u001b[0m         \u001b[0massert_is_type\u001b[0m\u001b[1;33m(\u001b[0m\u001b[0my\u001b[0m\u001b[1;33m,\u001b[0m \u001b[1;32mNone\u001b[0m\u001b[1;33m,\u001b[0m \u001b[0mint\u001b[0m\u001b[1;33m,\u001b[0m \u001b[0mstr\u001b[0m\u001b[1;33m)\u001b[0m\u001b[1;33m\u001b[0m\u001b[0m\n\u001b[1;32m--> 108\u001b[1;33m         \u001b[0massert_is_type\u001b[0m\u001b[1;33m(\u001b[0m\u001b[0mx\u001b[0m\u001b[1;33m,\u001b[0m \u001b[1;32mNone\u001b[0m\u001b[1;33m,\u001b[0m \u001b[0mint\u001b[0m\u001b[1;33m,\u001b[0m \u001b[0mstr\u001b[0m\u001b[1;33m,\u001b[0m \u001b[1;33m[\u001b[0m\u001b[0mstr\u001b[0m\u001b[1;33m,\u001b[0m \u001b[0mint\u001b[0m\u001b[1;33m]\u001b[0m\u001b[1;33m,\u001b[0m \u001b[1;33m{\u001b[0m\u001b[0mstr\u001b[0m\u001b[1;33m,\u001b[0m \u001b[0mint\u001b[0m\u001b[1;33m}\u001b[0m\u001b[1;33m)\u001b[0m\u001b[1;33m\u001b[0m\u001b[0m\n\u001b[0m\u001b[0;32m    109\u001b[0m         \u001b[0massert_is_type\u001b[0m\u001b[1;33m(\u001b[0m\u001b[0mignored_columns\u001b[0m\u001b[1;33m,\u001b[0m \u001b[1;32mNone\u001b[0m\u001b[1;33m,\u001b[0m \u001b[1;33m[\u001b[0m\u001b[0mstr\u001b[0m\u001b[1;33m,\u001b[0m \u001b[0mint\u001b[0m\u001b[1;33m]\u001b[0m\u001b[1;33m,\u001b[0m \u001b[1;33m{\u001b[0m\u001b[0mstr\u001b[0m\u001b[1;33m,\u001b[0m \u001b[0mint\u001b[0m\u001b[1;33m}\u001b[0m\u001b[1;33m)\u001b[0m\u001b[1;33m\u001b[0m\u001b[0m\n\u001b[0;32m    110\u001b[0m         \u001b[0massert_is_type\u001b[0m\u001b[1;33m(\u001b[0m\u001b[0moffset_column\u001b[0m\u001b[1;33m,\u001b[0m \u001b[1;32mNone\u001b[0m\u001b[1;33m,\u001b[0m \u001b[0mint\u001b[0m\u001b[1;33m,\u001b[0m \u001b[0mstr\u001b[0m\u001b[1;33m)\u001b[0m\u001b[1;33m\u001b[0m\u001b[0m\n",
      "\u001b[1;32mC:\\ProgramData\\Anaconda3\\lib\\site-packages\\h2o\\utils\\typechecks.py\u001b[0m in \u001b[0;36massert_is_type\u001b[1;34m(var, *types, **kwargs)\u001b[0m\n\u001b[0;32m    455\u001b[0m     \u001b[0mvtn\u001b[0m \u001b[1;33m=\u001b[0m \u001b[0m_get_type_name\u001b[0m\u001b[1;33m(\u001b[0m\u001b[0mtype\u001b[0m\u001b[1;33m(\u001b[0m\u001b[0mvar\u001b[0m\u001b[1;33m)\u001b[0m\u001b[1;33m)\u001b[0m\u001b[1;33m\u001b[0m\u001b[0m\n\u001b[0;32m    456\u001b[0m     raise H2OTypeError(var_name=vname, var_value=var, var_type_name=vtn, exp_type_name=etn, message=message,\n\u001b[1;32m--> 457\u001b[1;33m                        skip_frames=skip_frames)\n\u001b[0m\u001b[0;32m    458\u001b[0m \u001b[1;33m\u001b[0m\u001b[0m\n\u001b[0;32m    459\u001b[0m \u001b[1;33m\u001b[0m\u001b[0m\n",
      "\u001b[1;31mH2OTypeError\u001b[0m: Argument `x` should be a None | integer | string | list(string | integer) | set(integer | string), got DataFrame          days  outcome\n712174     19        1\n1612744   401        0\n1612745   401        0\n1612746   401        0\n1612750   402        0\n1612748   404        0\n1612749   404        0\n1612747   405        0\n1612751   405        0"
     ]
    }
   ],
   "source": [
    "%%time\n",
    "rf_v1.train(a, 'outcome', training_frame=hf_merge1)"
   ]
  },
  {
   "cell_type": "code",
   "execution_count": 32,
   "metadata": {},
   "outputs": [
    {
     "ename": "AttributeError",
     "evalue": "type object 'H2ORandomForestEstimator' has no attribute 'roc'",
     "output_type": "error",
     "traceback": [
      "\u001b[1;31m---------------------------------------------------------------------------\u001b[0m",
      "\u001b[1;31mAttributeError\u001b[0m                            Traceback (most recent call last)",
      "\u001b[1;32m<timed exec>\u001b[0m in \u001b[0;36m<module>\u001b[1;34m()\u001b[0m\n",
      "\u001b[1;32mC:\\ProgramData\\Anaconda3\\lib\\site-packages\\h2o\\utils\\backward_compatibility.py\u001b[0m in \u001b[0;36m__getattr__\u001b[1;34m(self, item)\u001b[0m\n\u001b[0;32m     72\u001b[0m             \u001b[1;32mreturn\u001b[0m \u001b[0mself\u001b[0m\u001b[1;33m.\u001b[0m\u001b[0m_bcin\u001b[0m\u001b[1;33m[\u001b[0m\u001b[0mitem\u001b[0m\u001b[1;33m]\u001b[0m\u001b[1;33m\u001b[0m\u001b[0m\n\u001b[0;32m     73\u001b[0m         \u001b[1;31m# Make sure that we look up any names not found on the instance also in the class\u001b[0m\u001b[1;33m\u001b[0m\u001b[1;33m\u001b[0m\u001b[0m\n\u001b[1;32m---> 74\u001b[1;33m         \u001b[1;32mreturn\u001b[0m \u001b[0mgetattr\u001b[0m\u001b[1;33m(\u001b[0m\u001b[0mself\u001b[0m\u001b[1;33m.\u001b[0m\u001b[0m__class__\u001b[0m\u001b[1;33m,\u001b[0m \u001b[0mitem\u001b[0m\u001b[1;33m)\u001b[0m\u001b[1;33m\u001b[0m\u001b[0m\n\u001b[0m\u001b[0;32m     75\u001b[0m \u001b[1;33m\u001b[0m\u001b[0m\n\u001b[0;32m     76\u001b[0m \u001b[1;33m\u001b[0m\u001b[0m\n",
      "\u001b[1;32mC:\\ProgramData\\Anaconda3\\lib\\site-packages\\h2o\\utils\\backward_compatibility.py\u001b[0m in \u001b[0;36m__getattribute__\u001b[1;34m(cls, name)\u001b[0m\n\u001b[0;32m     47\u001b[0m                 \u001b[1;31m# print(\"Warning: Method %s in class %s is deprecated.\" % (name, cls.__name__))\u001b[0m\u001b[1;33m\u001b[0m\u001b[1;33m\u001b[0m\u001b[0m\n\u001b[0;32m     48\u001b[0m                 \u001b[1;32mreturn\u001b[0m \u001b[0mbc\u001b[0m\u001b[1;33m[\u001b[0m\u001b[1;34m\"sm\"\u001b[0m\u001b[1;33m]\u001b[0m\u001b[1;33m[\u001b[0m\u001b[0mname\u001b[0m\u001b[1;33m]\u001b[0m\u001b[1;33m\u001b[0m\u001b[0m\n\u001b[1;32m---> 49\u001b[1;33m         \u001b[1;32mreturn\u001b[0m \u001b[0mtype\u001b[0m\u001b[1;33m.\u001b[0m\u001b[0m__getattribute__\u001b[0m\u001b[1;33m(\u001b[0m\u001b[0mcls\u001b[0m\u001b[1;33m,\u001b[0m \u001b[0mname\u001b[0m\u001b[1;33m)\u001b[0m\u001b[1;33m\u001b[0m\u001b[0m\n\u001b[0m\u001b[0;32m     50\u001b[0m \u001b[1;33m\u001b[0m\u001b[0m\n\u001b[0;32m     51\u001b[0m     \u001b[1;32mdef\u001b[0m \u001b[0m__setattr__\u001b[0m\u001b[1;33m(\u001b[0m\u001b[0mcls\u001b[0m\u001b[1;33m,\u001b[0m \u001b[0mname\u001b[0m\u001b[1;33m,\u001b[0m \u001b[0mvalue\u001b[0m\u001b[1;33m)\u001b[0m\u001b[1;33m:\u001b[0m\u001b[1;33m\u001b[0m\u001b[0m\n",
      "\u001b[1;31mAttributeError\u001b[0m: type object 'H2ORandomForestEstimator' has no attribute 'roc'"
     ]
    }
   ],
   "source": [
    "%%time\n",
    "roc = rf_v1.roc()\n",
    "\n",
    "plt.plot(roc[0], roc[1])\n",
    "plt.show()"
   ]
  },
  {
   "cell_type": "code",
   "execution_count": 33,
   "metadata": {},
   "outputs": [
    {
     "name": "stdout",
     "output_type": "stream",
     "text": [
      "{'people_id': 'string', 'activity_id': 'string', 'date_x': 'time', 'week_x': 'enum', 'Past_days': 'numeric', 'activity_category': 'enum', 'char_1_x': 'enum', 'char_2_x': 'enum', 'char_3_x': 'enum', 'char_4_x': 'enum', 'char_5_x': 'enum', 'char_6_x': 'enum', 'char_7_x': 'enum', 'char_8_x': 'enum', 'char_9_x': 'enum', 'char_10_x': 'string', 'char_1_y': 'enum', 'group_1': 'string', 'char_2_y': 'enum', 'date_y': 'time', 'week_y': 'enum', 'char_3_y': 'enum', 'char_4_y': 'enum', 'char_5_y': 'enum', 'char_6_y': 'enum', 'char_7_y': 'enum', 'char_8_y': 'enum', 'char_9_y': 'enum', 'char_10_y': 'enum', 'char_11': 'enum', 'char_12': 'enum', 'char_13': 'enum', 'char_14': 'enum', 'char_15': 'enum', 'char_16': 'enum', 'char_17': 'enum', 'char_18': 'enum', 'char_19': 'enum', 'char_20': 'enum', 'char_21': 'enum', 'char_22': 'enum', 'char_23': 'enum', 'char_24': 'enum', 'char_25': 'enum', 'char_26': 'enum', 'char_27': 'enum', 'char_28': 'enum', 'char_29': 'enum', 'char_30': 'enum', 'char_31': 'enum', 'char_32': 'enum', 'char_33': 'enum', 'char_34': 'enum', 'char_35': 'enum', 'char_36': 'enum', 'char_37': 'enum', 'char_38': 'numeric', 'days': 'numeric', 'bool_sum': 'numeric'}\n",
      "\n",
      "{'char_1_x': ['0'], 'char_2_x': ['0'], 'char_3_x': ['0'], 'char_4_x': ['0'], 'char_5_x': ['0'], 'char_6_x': ['0'], 'char_7_x': ['0'], 'char_8_x': ['0'], 'char_9_x': ['0']}\n"
     ]
    }
   ],
   "source": [
    "coltype_dict = dict()\n",
    "ignore_list = ['people_id', 'activity_id', 'group_1', 'char_10_x']\n",
    "numeric_list = ['char_38', 'bool_sum', 'days', 'Past_days']\n",
    "date_list = ['date_x', 'date_y']\n",
    "for col in list(df_merge_test):\n",
    "    type_ = 'string'\n",
    "    if col in ignore_list:\n",
    "        type_ = 'string'\n",
    "    elif col in numeric_list:\n",
    "        type_ = 'numeric'\n",
    "    elif col in date_list:\n",
    "        type_ = 'time'\n",
    "    else:\n",
    "        type_ = 'enum'\n",
    "    coltype_dict[col] = type_\n",
    "print(coltype_dict)\n",
    "print()\n",
    "\n",
    "na_dict = dict()\n",
    "na_list = ['char_{}_x'.format(x) for x in range(1, 10)]\n",
    "for item in na_list:\n",
    "    na_dict[item] = ['0']\n",
    "print(na_dict)"
   ]
  },
  {
   "cell_type": "code",
   "execution_count": 34,
   "metadata": {},
   "outputs": [
    {
     "name": "stdout",
     "output_type": "stream",
     "text": [
      "Parse progress: |█████████████████████████████████████████████████████████| 100%\n",
      "Wall time: 29 s\n"
     ]
    }
   ],
   "source": [
    "%%time\n",
    "hf_merge1_test = h2o.H2OFrame(df_merge_test , column_types=coltype_dict, na_strings=na_dict)"
   ]
  },
  {
   "cell_type": "code",
   "execution_count": 35,
   "metadata": {},
   "outputs": [
    {
     "ename": "ValueError",
     "evalue": "Unexpected __getitem__ selector: <class 'pandas.core.frame.DataFrame'> <class 'pandas.core.frame.DataFrame'>",
     "output_type": "error",
     "traceback": [
      "\u001b[1;31m---------------------------------------------------------------------------\u001b[0m",
      "\u001b[1;31mValueError\u001b[0m                                Traceback (most recent call last)",
      "\u001b[1;32m<ipython-input-35-e7ece88efeae>\u001b[0m in \u001b[0;36m<module>\u001b[1;34m()\u001b[0m\n\u001b[1;32m----> 1\u001b[1;33m \u001b[0mrf_v1_predict\u001b[0m \u001b[1;33m=\u001b[0m \u001b[0mrf_v1\u001b[0m\u001b[1;33m.\u001b[0m\u001b[0mpredict\u001b[0m\u001b[1;33m(\u001b[0m\u001b[0mhf_merge1_test\u001b[0m\u001b[1;33m[\u001b[0m\u001b[0ma\u001b[0m\u001b[1;33m]\u001b[0m\u001b[1;33m)\u001b[0m\u001b[1;33m\u001b[0m\u001b[0m\n\u001b[0m",
      "\u001b[1;32mC:\\ProgramData\\Anaconda3\\lib\\site-packages\\h2o\\frame.py\u001b[0m in \u001b[0;36m__getitem__\u001b[1;34m(self, item)\u001b[0m\n\u001b[0;32m   1335\u001b[0m             \u001b[0mflatten\u001b[0m \u001b[1;33m=\u001b[0m \u001b[0mis_type\u001b[0m\u001b[1;33m(\u001b[0m\u001b[0mrows\u001b[0m\u001b[1;33m,\u001b[0m \u001b[0mint\u001b[0m\u001b[1;33m)\u001b[0m \u001b[1;32mand\u001b[0m \u001b[0mis_type\u001b[0m\u001b[1;33m(\u001b[0m\u001b[0mcols\u001b[0m\u001b[1;33m,\u001b[0m \u001b[0mstr\u001b[0m\u001b[1;33m,\u001b[0m \u001b[0mint\u001b[0m\u001b[1;33m)\u001b[0m\u001b[1;33m\u001b[0m\u001b[0m\n\u001b[0;32m   1336\u001b[0m         \u001b[1;32melse\u001b[0m\u001b[1;33m:\u001b[0m\u001b[1;33m\u001b[0m\u001b[0m\n\u001b[1;32m-> 1337\u001b[1;33m             \u001b[1;32mraise\u001b[0m \u001b[0mValueError\u001b[0m\u001b[1;33m(\u001b[0m\u001b[1;34m\"Unexpected __getitem__ selector: \"\u001b[0m \u001b[1;33m+\u001b[0m \u001b[0mstr\u001b[0m\u001b[1;33m(\u001b[0m\u001b[0mtype\u001b[0m\u001b[1;33m(\u001b[0m\u001b[0mitem\u001b[0m\u001b[1;33m)\u001b[0m\u001b[1;33m)\u001b[0m \u001b[1;33m+\u001b[0m \u001b[1;34m\" \"\u001b[0m \u001b[1;33m+\u001b[0m \u001b[0mstr\u001b[0m\u001b[1;33m(\u001b[0m\u001b[0mitem\u001b[0m\u001b[1;33m.\u001b[0m\u001b[0m__class__\u001b[0m\u001b[1;33m)\u001b[0m\u001b[1;33m)\u001b[0m\u001b[1;33m\u001b[0m\u001b[0m\n\u001b[0m\u001b[0;32m   1338\u001b[0m \u001b[1;33m\u001b[0m\u001b[0m\n\u001b[0;32m   1339\u001b[0m         \u001b[1;32massert\u001b[0m \u001b[0mfr\u001b[0m \u001b[1;32mis\u001b[0m \u001b[1;32mnot\u001b[0m \u001b[1;32mNone\u001b[0m\u001b[1;33m\u001b[0m\u001b[0m\n",
      "\u001b[1;31mValueError\u001b[0m: Unexpected __getitem__ selector: <class 'pandas.core.frame.DataFrame'> <class 'pandas.core.frame.DataFrame'>"
     ]
    }
   ],
   "source": [
    "rf_v1_predict = rf_v1.predict(hf_merge1_test[a])"
   ]
  },
  {
   "cell_type": "code",
   "execution_count": null,
   "metadata": {
    "collapsed": true
   },
   "outputs": [],
   "source": [
    "# rf_v1.varimp(use_pandas = True)"
   ]
  },
  {
   "cell_type": "code",
   "execution_count": null,
   "metadata": {
    "collapsed": true
   },
   "outputs": [],
   "source": [
    "rf_v1_predict_df = rf_v1_predict[['predict', 'p0', 'p1']].as_data_frame()"
   ]
  },
  {
   "cell_type": "code",
   "execution_count": null,
   "metadata": {
    "collapsed": true
   },
   "outputs": [],
   "source": [
    "rf_v1_predict_df"
   ]
  },
  {
   "cell_type": "code",
   "execution_count": null,
   "metadata": {
    "collapsed": true
   },
   "outputs": [],
   "source": [
    "df_submission_h2o = pd.DataFrame({'activity_id' : df_test_act_id, \n",
    "                              'outcome1' : rf_v1_predict_df['p1']\n",
    "                             })#.set_index('activity_id')"
   ]
  },
  {
   "cell_type": "code",
   "execution_count": null,
   "metadata": {
    "collapsed": true
   },
   "outputs": [],
   "source": [
    "# df_submission_h2o.to_csv(\"df_submission_h2o_p.csv\")"
   ]
  },
  {
   "cell_type": "code",
   "execution_count": null,
   "metadata": {
    "collapsed": true
   },
   "outputs": [],
   "source": [
    "df_submission_h2o.head()"
   ]
  },
  {
   "cell_type": "code",
   "execution_count": null,
   "metadata": {
    "collapsed": true
   },
   "outputs": [],
   "source": [
    "df_gd_test.head()"
   ]
  },
  {
   "cell_type": "code",
   "execution_count": 189,
   "metadata": {
    "collapsed": true
   },
   "outputs": [],
   "source": [
    "df_sub = pd.merge(df_submission_h2o, df_gd_test, on='activity_id')"
   ]
  },
  {
   "cell_type": "code",
   "execution_count": 190,
   "metadata": {
    "collapsed": true
   },
   "outputs": [],
   "source": [
    "df_sub = df_sub.rename(index=str, columns={\"outcome\": \"outcome2\"})"
   ]
  },
  {
   "cell_type": "code",
   "execution_count": 191,
   "metadata": {
    "collapsed": true
   },
   "outputs": [],
   "source": [
    "df_sub['outcome']=np.nan"
   ]
  },
  {
   "cell_type": "code",
   "execution_count": 192,
   "metadata": {},
   "outputs": [
    {
     "data": {
      "text/html": [
       "<div>\n",
       "<style>\n",
       "    .dataframe thead tr:only-child th {\n",
       "        text-align: right;\n",
       "    }\n",
       "\n",
       "    .dataframe thead th {\n",
       "        text-align: left;\n",
       "    }\n",
       "\n",
       "    .dataframe tbody tr th {\n",
       "        vertical-align: top;\n",
       "    }\n",
       "</style>\n",
       "<table border=\"1\" class=\"dataframe\">\n",
       "  <thead>\n",
       "    <tr style=\"text-align: right;\">\n",
       "      <th></th>\n",
       "      <th>activity_id</th>\n",
       "      <th>outcome1</th>\n",
       "      <th>days</th>\n",
       "      <th>group_1</th>\n",
       "      <th>outcome2</th>\n",
       "      <th>outcome</th>\n",
       "    </tr>\n",
       "  </thead>\n",
       "  <tbody>\n",
       "    <tr>\n",
       "      <th>0</th>\n",
       "      <td>act1_249281</td>\n",
       "      <td>0.358940</td>\n",
       "      <td>3</td>\n",
       "      <td>22593</td>\n",
       "      <td>0.0</td>\n",
       "      <td>NaN</td>\n",
       "    </tr>\n",
       "    <tr>\n",
       "      <th>1</th>\n",
       "      <td>act2_230855</td>\n",
       "      <td>0.388448</td>\n",
       "      <td>3</td>\n",
       "      <td>22593</td>\n",
       "      <td>0.0</td>\n",
       "      <td>NaN</td>\n",
       "    </tr>\n",
       "    <tr>\n",
       "      <th>2</th>\n",
       "      <td>act1_240724</td>\n",
       "      <td>0.779669</td>\n",
       "      <td>89</td>\n",
       "      <td>25417</td>\n",
       "      <td>1.0</td>\n",
       "      <td>NaN</td>\n",
       "    </tr>\n",
       "    <tr>\n",
       "      <th>3</th>\n",
       "      <td>act1_83552</td>\n",
       "      <td>0.776085</td>\n",
       "      <td>133</td>\n",
       "      <td>25417</td>\n",
       "      <td>1.0</td>\n",
       "      <td>NaN</td>\n",
       "    </tr>\n",
       "    <tr>\n",
       "      <th>4</th>\n",
       "      <td>act2_1043301</td>\n",
       "      <td>0.831278</td>\n",
       "      <td>90</td>\n",
       "      <td>25417</td>\n",
       "      <td>1.0</td>\n",
       "      <td>NaN</td>\n",
       "    </tr>\n",
       "  </tbody>\n",
       "</table>\n",
       "</div>"
      ],
      "text/plain": [
       "    activity_id  outcome1  days  group_1  outcome2  outcome\n",
       "0   act1_249281  0.358940     3    22593       0.0      NaN\n",
       "1   act2_230855  0.388448     3    22593       0.0      NaN\n",
       "2   act1_240724  0.779669    89    25417       1.0      NaN\n",
       "3    act1_83552  0.776085   133    25417       1.0      NaN\n",
       "4  act2_1043301  0.831278    90    25417       1.0      NaN"
      ]
     },
     "execution_count": 192,
     "metadata": {},
     "output_type": "execute_result"
    }
   ],
   "source": [
    "df_sub.head()"
   ]
  },
  {
   "cell_type": "code",
   "execution_count": 193,
   "metadata": {
    "collapsed": true
   },
   "outputs": [],
   "source": [
    "df_sub.loc.__setitem__((df_sub.loc[:,'outcome2'].isnull()==False, ('outcome')), df_sub['outcome2'])"
   ]
  },
  {
   "cell_type": "code",
   "execution_count": 194,
   "metadata": {
    "collapsed": true
   },
   "outputs": [],
   "source": [
    "df_sub.loc.__setitem__((df_sub.loc[:,'outcome2'].isnull(), ('outcome')), df_sub['outcome1'])"
   ]
  },
  {
   "cell_type": "code",
   "execution_count": 195,
   "metadata": {},
   "outputs": [
    {
     "data": {
      "text/plain": [
       "0"
      ]
     },
     "execution_count": 195,
     "metadata": {},
     "output_type": "execute_result"
    }
   ],
   "source": [
    "df_sub.outcome.isnull().sum()"
   ]
  },
  {
   "cell_type": "code",
   "execution_count": 196,
   "metadata": {
    "collapsed": true
   },
   "outputs": [],
   "source": [
    "df_submission_gd = pd.DataFrame({'activity_id' : df_sub.activity_id,\n",
    "                                 'outcome' : df_sub.outcome\n",
    "                                }).set_index('activity_id')"
   ]
  },
  {
   "cell_type": "code",
   "execution_count": 198,
   "metadata": {},
   "outputs": [
    {
     "data": {
      "text/html": [
       "<div>\n",
       "<style>\n",
       "    .dataframe thead tr:only-child th {\n",
       "        text-align: right;\n",
       "    }\n",
       "\n",
       "    .dataframe thead th {\n",
       "        text-align: left;\n",
       "    }\n",
       "\n",
       "    .dataframe tbody tr th {\n",
       "        vertical-align: top;\n",
       "    }\n",
       "</style>\n",
       "<table border=\"1\" class=\"dataframe\">\n",
       "  <thead>\n",
       "    <tr style=\"text-align: right;\">\n",
       "      <th></th>\n",
       "      <th>outcome</th>\n",
       "    </tr>\n",
       "    <tr>\n",
       "      <th>activity_id</th>\n",
       "      <th></th>\n",
       "    </tr>\n",
       "  </thead>\n",
       "  <tbody>\n",
       "    <tr>\n",
       "      <th>act1_249281</th>\n",
       "      <td>0.0</td>\n",
       "    </tr>\n",
       "    <tr>\n",
       "      <th>act2_230855</th>\n",
       "      <td>0.0</td>\n",
       "    </tr>\n",
       "    <tr>\n",
       "      <th>act1_240724</th>\n",
       "      <td>1.0</td>\n",
       "    </tr>\n",
       "    <tr>\n",
       "      <th>act1_83552</th>\n",
       "      <td>1.0</td>\n",
       "    </tr>\n",
       "    <tr>\n",
       "      <th>act2_1043301</th>\n",
       "      <td>1.0</td>\n",
       "    </tr>\n",
       "  </tbody>\n",
       "</table>\n",
       "</div>"
      ],
      "text/plain": [
       "              outcome\n",
       "activity_id          \n",
       "act1_249281       0.0\n",
       "act2_230855       0.0\n",
       "act1_240724       1.0\n",
       "act1_83552        1.0\n",
       "act2_1043301      1.0"
      ]
     },
     "execution_count": 198,
     "metadata": {},
     "output_type": "execute_result"
    }
   ],
   "source": [
    "df_submission_gd.head()"
   ]
  },
  {
   "cell_type": "code",
   "execution_count": 199,
   "metadata": {
    "collapsed": true
   },
   "outputs": [],
   "source": [
    "df_submission_gd.to_csv(\"df_submission_gd.csv\")"
   ]
  },
  {
   "cell_type": "code",
   "execution_count": null,
   "metadata": {
    "collapsed": true
   },
   "outputs": [],
   "source": []
  }
 ],
 "metadata": {
  "kernelspec": {
   "display_name": "Python 3",
   "language": "python",
   "name": "python3"
  },
  "language_info": {
   "codemirror_mode": {
    "name": "ipython",
    "version": 3
   },
   "file_extension": ".py",
   "mimetype": "text/x-python",
   "name": "python",
   "nbconvert_exporter": "python",
   "pygments_lexer": "ipython3",
   "version": "3.6.2"
  }
 },
 "nbformat": 4,
 "nbformat_minor": 2
}
