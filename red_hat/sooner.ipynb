{
 "cells": [
  {
   "cell_type": "markdown",
   "metadata": {},
   "source": [
    "# data load & 전처리"
   ]
  },
  {
   "cell_type": "code",
   "execution_count": null,
   "metadata": {
    "collapsed": true
   },
   "outputs": [],
   "source": [
    "%matplotlib inline\n",
    "import numpy as np\n",
    "import pandas as pd\n",
    "import seaborn as sns\n",
    "import matplotlib.pylab as plt"
   ]
  },
  {
   "cell_type": "code",
   "execution_count": 1,
   "metadata": {
    "collapsed": true
   },
   "outputs": [],
   "source": [
    "df_train = pd.read_csv('./data/act_train.csv', parse_dates=['date'])\n",
    "df_people = pd.read_csv('./data/people.csv', parse_dates=['date'])\n",
    "df_merge = pd.merge(df_train, df_people, how='inner', on='people_id')\n",
    "\n",
    "pd.set_option('display.max_columns', 100)\n",
    "pd.set_option('display.max_rows', 50)"
   ]
  },
  {
   "cell_type": "code",
   "execution_count": 2,
   "metadata": {
    "collapsed": true
   },
   "outputs": [],
   "source": [
    "df_date_x = df_merge['date_x'].copy()\n",
    "df_date_y = df_merge['date_y'].copy()\n",
    "\n",
    "df_merge.drop(['date_x', 'date_y'], axis=1, inplace=True)"
   ]
  },
  {
   "cell_type": "code",
   "execution_count": 3,
   "metadata": {},
   "outputs": [],
   "source": [
    "df_merge = df_merge.replace('type ', '', regex=True).apply(pd.to_numeric, errors='ignore')"
   ]
  },
  {
   "cell_type": "code",
   "execution_count": 4,
   "metadata": {
    "collapsed": true
   },
   "outputs": [],
   "source": [
    "df_merge.insert(loc=2 ,column='date_x', value=df_date_x)\n",
    "df_merge.insert(loc=18 ,column='date_y', value=df_date_x)"
   ]
  },
  {
   "cell_type": "markdown",
   "metadata": {},
   "source": [
    "#### test data"
   ]
  },
  {
   "cell_type": "code",
   "execution_count": 5,
   "metadata": {
    "collapsed": true
   },
   "outputs": [],
   "source": [
    "# df_test = pd.read_csv('./data/act_test.csv', parse_dates=['date'])\n",
    "# df_merge_test = pd.merge(df_test, df_people, how='inner', on='people_id')\n",
    "# df_date_x_test = df_merge['date_x'].copy()\n",
    "# df_date_y_test = df_merge['date_y'].copy()\n",
    "\n",
    "# df_merge_test.drop(['date_x', 'date_y'], axis=1, inplace=True)\n",
    "\n",
    "# df_merge_test = df_merge_test.replace('type ', '', regex=True).apply(pd.to_numeric, errors='ignore')\n",
    "\n",
    "# df_merge_test.insert(loc=2 ,column='date_x', value=df_date_x_test)\n",
    "# df_merge_test.insert(loc=18 ,column='date_y', value=df_date_y_test)"
   ]
  },
  {
   "cell_type": "code",
   "execution_count": 6,
   "metadata": {
    "collapsed": true
   },
   "outputs": [],
   "source": [
    "del df_train, df_people, df_date_x, df_date_y\n",
    "# del df_test, df_date_x_test, df_date_y_test"
   ]
  },
  {
   "cell_type": "code",
   "execution_count": 7,
   "metadata": {
    "collapsed": true
   },
   "outputs": [
    {
     "data": {
      "text/plain": [
       "people_id                    object\n",
       "activity_id                  object\n",
       "date_x               datetime64[ns]\n",
       "activity_category             int64\n",
       "char_1_x                    float64\n",
       "char_2_x                    float64\n",
       "char_3_x                    float64\n",
       "char_4_x                    float64\n",
       "char_5_x                    float64\n",
       "char_6_x                    float64\n",
       "char_7_x                    float64\n",
       "char_8_x                    float64\n",
       "char_9_x                    float64\n",
       "char_10_x                   float64\n",
       "outcome                       int64\n",
       "char_1_y                      int64\n",
       "group_1                      object\n",
       "char_2_y                      int64\n",
       "date_y               datetime64[ns]\n",
       "char_3_y                      int64\n",
       "char_4_y                      int64\n",
       "char_5_y                      int64\n",
       "char_6_y                      int64\n",
       "char_7_y                      int64\n",
       "char_8_y                      int64\n",
       "                          ...      \n",
       "char_14                        bool\n",
       "char_15                        bool\n",
       "char_16                        bool\n",
       "char_17                        bool\n",
       "char_18                        bool\n",
       "char_19                        bool\n",
       "char_20                        bool\n",
       "char_21                        bool\n",
       "char_22                        bool\n",
       "char_23                        bool\n",
       "char_24                        bool\n",
       "char_25                        bool\n",
       "char_26                        bool\n",
       "char_27                        bool\n",
       "char_28                        bool\n",
       "char_29                        bool\n",
       "char_30                        bool\n",
       "char_31                        bool\n",
       "char_32                        bool\n",
       "char_33                        bool\n",
       "char_34                        bool\n",
       "char_35                        bool\n",
       "char_36                        bool\n",
       "char_37                        bool\n",
       "char_38                       int64\n",
       "Length: 55, dtype: object"
      ]
     },
     "execution_count": 7,
     "metadata": {},
     "output_type": "execute_result"
    }
   ],
   "source": [
    "df_merge.dtypes"
   ]
  },
  {
   "cell_type": "markdown",
   "metadata": {},
   "source": [
    "# EDA"
   ]
  },
  {
   "cell_type": "code",
   "execution_count": 21,
   "metadata": {},
   "outputs": [
    {
     "name": "stdout",
     "output_type": "stream",
     "text": [
      "Start of date_x: 2022-07-17\n",
      "  End of date_x: 2023-08-31\n",
      "Range of date_x: 410 days 00:00:00\n",
      "\n",
      "Start of date_y: 2022-07-17\n",
      "  End of date_y: 2023-08-31\n",
      "Range of date_y: 410 days 00:00:00\n",
      "\n"
     ]
    }
   ],
   "source": [
    "for d in ['date_x', 'date_y']:\n",
    "    print('Start of ' + d + ': ' + str(df_merge[d].min().date()))\n",
    "    print('  End of ' + d + ': ' + str(df_merge[d].max().date()))\n",
    "    print('Range of ' + d + ': ' + str(df_merge[d].max() - df_merge[d].min()) + '\\n')"
   ]
  },
  {
   "cell_type": "code",
   "execution_count": null,
   "metadata": {
    "collapsed": true
   },
   "outputs": [],
   "source": [
    "a = df_merge.sample(frac = 0.1).copy()"
   ]
  },
  {
   "cell_type": "code",
   "execution_count": null,
   "metadata": {
    "collapsed": true
   },
   "outputs": [],
   "source": [
    "a.dtypes"
   ]
  },
  {
   "cell_type": "code",
   "execution_count": null,
   "metadata": {
    "collapsed": true
   },
   "outputs": [],
   "source": [
    "a = a.replace('type ', '', regex=True).apply(pd.to_numeric, errors='ignore')"
   ]
  },
  {
   "cell_type": "code",
   "execution_count": null,
   "metadata": {
    "collapsed": true
   },
   "outputs": [],
   "source": [
    "# a.dtypes"
   ]
  },
  {
   "cell_type": "code",
   "execution_count": null,
   "metadata": {
    "collapsed": true
   },
   "outputs": [],
   "source": [
    "a.head()"
   ]
  },
  {
   "cell_type": "code",
   "execution_count": null,
   "metadata": {
    "collapsed": true
   },
   "outputs": [],
   "source": [
    "a.columns"
   ]
  },
  {
   "cell_type": "code",
   "execution_count": null,
   "metadata": {
    "collapsed": true
   },
   "outputs": [],
   "source": [
    "sns.countplot(x='activity_category', hue = 'outcome', data = a)\n",
    "plt.show()"
   ]
  },
  {
   "cell_type": "code",
   "execution_count": null,
   "metadata": {
    "collapsed": true
   },
   "outputs": [],
   "source": [
    "# with open('test_test.csv', 'w') as csvfile:\n",
    "#     fieldnames = ['Id', 'SalePrice']\n",
    "#     writer = csv.DictWriter(csvfile, fieldnames=fieldnames)\n",
    "    \n",
    "#     writer.writeheader()\n",
    "#     for i in test_test.index:\n",
    "#         writer.writerow({'Id' : i, 'SalePrice' : test_test.loc[i]})"
   ]
  }
 ],
 "metadata": {
  "kernelspec": {
   "display_name": "Python 3",
   "language": "python",
   "name": "python3"
  },
  "language_info": {
   "codemirror_mode": {
    "name": "ipython",
    "version": 3
   },
   "file_extension": ".py",
   "mimetype": "text/x-python",
   "name": "python",
   "nbconvert_exporter": "python",
   "pygments_lexer": "ipython3",
   "version": "3.6.2"
  }
 },
 "nbformat": 4,
 "nbformat_minor": 2
}
